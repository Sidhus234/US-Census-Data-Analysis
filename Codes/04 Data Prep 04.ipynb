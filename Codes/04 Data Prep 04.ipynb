{
 "cells": [
  {
   "cell_type": "markdown",
   "metadata": {},
   "source": [
    "# <span style=\"color:Maroon\">Data Preparation - Part 4"
   ]
  },
  {
   "cell_type": "markdown",
   "metadata": {},
   "source": [
    "<span style=\"color:Green\">__Overview:__ Create dataset at county level by dividing the population by race type"
   ]
  },
  {
   "cell_type": "code",
   "execution_count": 1,
   "metadata": {},
   "outputs": [],
   "source": [
    "# Import libraries\n",
    "import pandas as pd\n",
    "import numpy as np\n",
    "import os as os"
   ]
  },
  {
   "cell_type": "code",
   "execution_count": 2,
   "metadata": {},
   "outputs": [],
   "source": [
    "os.chdir(\"..\")\n",
    "cwd = os.getcwd()\n",
    "other_data = \"\\\\Data\\\\other data\"\n",
    "os.chdir(f'{cwd}{other_data}')"
   ]
  },
  {
   "cell_type": "code",
   "execution_count": 3,
   "metadata": {},
   "outputs": [],
   "source": [
    "data = pd.read_csv(\"cc-est2013-alldata.csv\",encoding = \"ISO-8859-1\")"
   ]
  },
  {
   "cell_type": "code",
   "execution_count": 4,
   "metadata": {},
   "outputs": [
    {
     "data": {
      "text/plain": [
       "(358302, 80)"
      ]
     },
     "execution_count": 4,
     "metadata": {},
     "output_type": "execute_result"
    }
   ],
   "source": [
    "data.shape"
   ]
  },
  {
   "cell_type": "code",
   "execution_count": 5,
   "metadata": {},
   "outputs": [],
   "source": [
    "# Drop 2013 data, as 2013 is the lag year\n",
    "data = data[data[\"YEAR\"]<6]\n",
    "data = data[data[\"YEAR\"]!=2]\n",
    "data = data[data[\"YEAR\"]!=3]"
   ]
  },
  {
   "cell_type": "code",
   "execution_count": 6,
   "metadata": {},
   "outputs": [],
   "source": [
    "states = list(np.unique(np.array(data[\"STATE\"])))"
   ]
  },
  {
   "cell_type": "code",
   "execution_count": 7,
   "metadata": {},
   "outputs": [],
   "source": [
    "varlist = [\"SUMLEV\", \"STATE\", \"COUNTY\", \"CTYNAME\", \"YEAR\", \"STNAME\"]"
   ]
  },
  {
   "cell_type": "code",
   "execution_count": 8,
   "metadata": {},
   "outputs": [],
   "source": [
    "years = [1,4,5]"
   ]
  },
  {
   "cell_type": "code",
   "execution_count": 9,
   "metadata": {},
   "outputs": [],
   "source": [
    "def transpose_derive(df,year,state,county):\n",
    "    df = df.set_index(\"AGEGRP\")\n",
    "    df = df.transpose()\n",
    "    df['PC_OF_TOTAL'] = df[0]/df[0].max()\n",
    "    for i in range(1,19):\n",
    "        df[\"PC\"+str(i)+\"_\"+str(2010+year)] = df[i]/df[0]\n",
    "    vars = list(df.columns)\n",
    "    cols = vars[0:19]\n",
    "    vars = vars[19:]\n",
    "    cols = [(str(2010+year)+\"_\"+str(col)) for col in cols]\n",
    "    vars = cols+vars\n",
    "    df.columns = vars\n",
    "    categories = list(dict.fromkeys(list(df.index)))\n",
    "    out_data = pd.DataFrame()\n",
    "    for i in range(0,len(categories)):\n",
    "        df1 = df[df.index==categories[i]]\n",
    "        cols = list(df1.columns)\n",
    "        cols = [(categories[i]+str(col)) for col in cols]\n",
    "        df1.columns = cols \n",
    "        df1.index = [state*1000+county]\n",
    "        out_data =out_data.merge(df1, how=\"outer\", left_index=True, right_index=True)\n",
    "    return out_data"
   ]
  },
  {
   "cell_type": "code",
   "execution_count": 10,
   "metadata": {},
   "outputs": [],
   "source": [
    "out_data = pd.DataFrame()\n",
    "for i in range(0,len(states)):\n",
    "    data1 = data[data[\"STATE\"]==states[i]]\n",
    "    county = list(np.unique(np.array(data1[\"COUNTY\"])))\n",
    "    for j in range(0,len(county)):\n",
    "        data2 = data1[data1[\"COUNTY\"]==county[j]]\n",
    "        outp = pd.DataFrame()\n",
    "        for k in range(0,len(years)):\n",
    "            data3 = data2[data2[\"YEAR\"]==years[k]]\n",
    "            data3 = data3.drop(varlist,axis=1)\n",
    "            tmp = transpose_derive(data3,k,states[i],county[j])\n",
    "            outp = outp.merge(tmp, how=\"outer\", left_index=True, right_index=True)\n",
    "        out_data = out_data.append(outp)"
   ]
  },
  {
   "cell_type": "code",
   "execution_count": 11,
   "metadata": {},
   "outputs": [
    {
     "data": {
      "text/plain": [
       "(3143, 8322)"
      ]
     },
     "execution_count": 11,
     "metadata": {},
     "output_type": "execute_result"
    }
   ],
   "source": [
    "out_data.shape"
   ]
  },
  {
   "cell_type": "code",
   "execution_count": 12,
   "metadata": {},
   "outputs": [
    {
     "data": {
      "text/html": [
       "<div>\n",
       "<style scoped>\n",
       "    .dataframe tbody tr th:only-of-type {\n",
       "        vertical-align: middle;\n",
       "    }\n",
       "\n",
       "    .dataframe tbody tr th {\n",
       "        vertical-align: top;\n",
       "    }\n",
       "\n",
       "    .dataframe thead th {\n",
       "        text-align: right;\n",
       "    }\n",
       "</style>\n",
       "<table border=\"1\" class=\"dataframe\">\n",
       "  <thead>\n",
       "    <tr style=\"text-align: right;\">\n",
       "      <th></th>\n",
       "      <th>TOT_POP2010_0</th>\n",
       "      <th>TOT_POP2010_1</th>\n",
       "      <th>TOT_POP2010_2</th>\n",
       "      <th>TOT_POP2010_3</th>\n",
       "      <th>TOT_POP2010_4</th>\n",
       "      <th>TOT_POP2010_5</th>\n",
       "      <th>TOT_POP2010_6</th>\n",
       "      <th>TOT_POP2010_7</th>\n",
       "      <th>TOT_POP2010_8</th>\n",
       "      <th>TOT_POP2010_9</th>\n",
       "      <th>...</th>\n",
       "      <th>HNAC_FEMALEPC9_2012</th>\n",
       "      <th>HNAC_FEMALEPC10_2012</th>\n",
       "      <th>HNAC_FEMALEPC11_2012</th>\n",
       "      <th>HNAC_FEMALEPC12_2012</th>\n",
       "      <th>HNAC_FEMALEPC13_2012</th>\n",
       "      <th>HNAC_FEMALEPC14_2012</th>\n",
       "      <th>HNAC_FEMALEPC15_2012</th>\n",
       "      <th>HNAC_FEMALEPC16_2012</th>\n",
       "      <th>HNAC_FEMALEPC17_2012</th>\n",
       "      <th>HNAC_FEMALEPC18_2012</th>\n",
       "    </tr>\n",
       "  </thead>\n",
       "  <tbody>\n",
       "    <tr>\n",
       "      <th>1001</th>\n",
       "      <td>54571</td>\n",
       "      <td>3579</td>\n",
       "      <td>3991</td>\n",
       "      <td>4290</td>\n",
       "      <td>4290</td>\n",
       "      <td>3080</td>\n",
       "      <td>3157</td>\n",
       "      <td>3330</td>\n",
       "      <td>4157</td>\n",
       "      <td>4086</td>\n",
       "      <td>...</td>\n",
       "      <td>0.222222</td>\n",
       "      <td>0.000000</td>\n",
       "      <td>0.000000</td>\n",
       "      <td>0.111111</td>\n",
       "      <td>0.111111</td>\n",
       "      <td>0.000000</td>\n",
       "      <td>0.000000</td>\n",
       "      <td>0.0</td>\n",
       "      <td>0.0</td>\n",
       "      <td>0.0</td>\n",
       "    </tr>\n",
       "    <tr>\n",
       "      <th>1003</th>\n",
       "      <td>182265</td>\n",
       "      <td>11158</td>\n",
       "      <td>11599</td>\n",
       "      <td>11926</td>\n",
       "      <td>11600</td>\n",
       "      <td>9449</td>\n",
       "      <td>10247</td>\n",
       "      <td>10709</td>\n",
       "      <td>11558</td>\n",
       "      <td>11995</td>\n",
       "      <td>...</td>\n",
       "      <td>0.058824</td>\n",
       "      <td>0.000000</td>\n",
       "      <td>0.029412</td>\n",
       "      <td>0.000000</td>\n",
       "      <td>0.029412</td>\n",
       "      <td>0.058824</td>\n",
       "      <td>0.000000</td>\n",
       "      <td>0.0</td>\n",
       "      <td>0.0</td>\n",
       "      <td>0.0</td>\n",
       "    </tr>\n",
       "    <tr>\n",
       "      <th>1005</th>\n",
       "      <td>27457</td>\n",
       "      <td>1702</td>\n",
       "      <td>1642</td>\n",
       "      <td>1599</td>\n",
       "      <td>1731</td>\n",
       "      <td>1794</td>\n",
       "      <td>2010</td>\n",
       "      <td>1808</td>\n",
       "      <td>1819</td>\n",
       "      <td>1809</td>\n",
       "      <td>...</td>\n",
       "      <td>0.153846</td>\n",
       "      <td>0.307692</td>\n",
       "      <td>0.000000</td>\n",
       "      <td>0.000000</td>\n",
       "      <td>0.000000</td>\n",
       "      <td>0.000000</td>\n",
       "      <td>0.000000</td>\n",
       "      <td>0.0</td>\n",
       "      <td>0.0</td>\n",
       "      <td>0.0</td>\n",
       "    </tr>\n",
       "    <tr>\n",
       "      <th>1007</th>\n",
       "      <td>22915</td>\n",
       "      <td>1378</td>\n",
       "      <td>1405</td>\n",
       "      <td>1440</td>\n",
       "      <td>1543</td>\n",
       "      <td>1491</td>\n",
       "      <td>1603</td>\n",
       "      <td>1646</td>\n",
       "      <td>1747</td>\n",
       "      <td>1635</td>\n",
       "      <td>...</td>\n",
       "      <td>0.333333</td>\n",
       "      <td>0.000000</td>\n",
       "      <td>0.000000</td>\n",
       "      <td>0.000000</td>\n",
       "      <td>0.000000</td>\n",
       "      <td>0.000000</td>\n",
       "      <td>0.000000</td>\n",
       "      <td>0.0</td>\n",
       "      <td>0.0</td>\n",
       "      <td>0.0</td>\n",
       "    </tr>\n",
       "    <tr>\n",
       "      <th>1009</th>\n",
       "      <td>57322</td>\n",
       "      <td>3616</td>\n",
       "      <td>3880</td>\n",
       "      <td>4084</td>\n",
       "      <td>4033</td>\n",
       "      <td>3107</td>\n",
       "      <td>3436</td>\n",
       "      <td>3441</td>\n",
       "      <td>3892</td>\n",
       "      <td>4033</td>\n",
       "      <td>...</td>\n",
       "      <td>0.142857</td>\n",
       "      <td>0.000000</td>\n",
       "      <td>0.047619</td>\n",
       "      <td>0.000000</td>\n",
       "      <td>0.000000</td>\n",
       "      <td>0.000000</td>\n",
       "      <td>0.047619</td>\n",
       "      <td>0.0</td>\n",
       "      <td>0.0</td>\n",
       "      <td>0.0</td>\n",
       "    </tr>\n",
       "  </tbody>\n",
       "</table>\n",
       "<p>5 rows × 8322 columns</p>\n",
       "</div>"
      ],
      "text/plain": [
       "      TOT_POP2010_0  TOT_POP2010_1  TOT_POP2010_2  TOT_POP2010_3  \\\n",
       "1001          54571           3579           3991           4290   \n",
       "1003         182265          11158          11599          11926   \n",
       "1005          27457           1702           1642           1599   \n",
       "1007          22915           1378           1405           1440   \n",
       "1009          57322           3616           3880           4084   \n",
       "\n",
       "      TOT_POP2010_4  TOT_POP2010_5  TOT_POP2010_6  TOT_POP2010_7  \\\n",
       "1001           4290           3080           3157           3330   \n",
       "1003          11600           9449          10247          10709   \n",
       "1005           1731           1794           2010           1808   \n",
       "1007           1543           1491           1603           1646   \n",
       "1009           4033           3107           3436           3441   \n",
       "\n",
       "      TOT_POP2010_8  TOT_POP2010_9  ...  HNAC_FEMALEPC9_2012  \\\n",
       "1001           4157           4086  ...             0.222222   \n",
       "1003          11558          11995  ...             0.058824   \n",
       "1005           1819           1809  ...             0.153846   \n",
       "1007           1747           1635  ...             0.333333   \n",
       "1009           3892           4033  ...             0.142857   \n",
       "\n",
       "      HNAC_FEMALEPC10_2012  HNAC_FEMALEPC11_2012  HNAC_FEMALEPC12_2012  \\\n",
       "1001              0.000000              0.000000              0.111111   \n",
       "1003              0.000000              0.029412              0.000000   \n",
       "1005              0.307692              0.000000              0.000000   \n",
       "1007              0.000000              0.000000              0.000000   \n",
       "1009              0.000000              0.047619              0.000000   \n",
       "\n",
       "      HNAC_FEMALEPC13_2012  HNAC_FEMALEPC14_2012  HNAC_FEMALEPC15_2012  \\\n",
       "1001              0.111111              0.000000              0.000000   \n",
       "1003              0.029412              0.058824              0.000000   \n",
       "1005              0.000000              0.000000              0.000000   \n",
       "1007              0.000000              0.000000              0.000000   \n",
       "1009              0.000000              0.000000              0.047619   \n",
       "\n",
       "      HNAC_FEMALEPC16_2012  HNAC_FEMALEPC17_2012  HNAC_FEMALEPC18_2012  \n",
       "1001                   0.0                   0.0                   0.0  \n",
       "1003                   0.0                   0.0                   0.0  \n",
       "1005                   0.0                   0.0                   0.0  \n",
       "1007                   0.0                   0.0                   0.0  \n",
       "1009                   0.0                   0.0                   0.0  \n",
       "\n",
       "[5 rows x 8322 columns]"
      ]
     },
     "execution_count": 12,
     "metadata": {},
     "output_type": "execute_result"
    }
   ],
   "source": [
    "out_data.head()"
   ]
  },
  {
   "cell_type": "code",
   "execution_count": 13,
   "metadata": {},
   "outputs": [],
   "source": [
    "out_data.to_csv(f\"{cwd}\\\\Data\\\\Model data\\\\Population_Race.csv\")"
   ]
  },
  {
   "cell_type": "markdown",
   "metadata": {},
   "source": [
    "     "
   ]
  },
  {
   "cell_type": "markdown",
   "metadata": {},
   "source": [
    "      "
   ]
  }
 ],
 "metadata": {
  "kernelspec": {
   "display_name": "Python 3",
   "language": "python",
   "name": "python3"
  },
  "language_info": {
   "codemirror_mode": {
    "name": "ipython",
    "version": 3
   },
   "file_extension": ".py",
   "mimetype": "text/x-python",
   "name": "python",
   "nbconvert_exporter": "python",
   "pygments_lexer": "ipython3",
   "version": "3.7.6"
  }
 },
 "nbformat": 4,
 "nbformat_minor": 2
}
