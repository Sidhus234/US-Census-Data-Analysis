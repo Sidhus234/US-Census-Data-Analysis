{
 "cells": [
  {
   "cell_type": "markdown",
   "metadata": {},
   "source": [
    "# Gradient Boosting Machines Model"
   ]
  },
  {
   "cell_type": "markdown",
   "metadata": {},
   "source": [
    "### GBM model will be the first machine learning model, that we shall built. "
   ]
  },
  {
   "cell_type": "markdown",
   "metadata": {},
   "source": [
    "###### https://en.wikipedia.org/wiki/Gradient_boosting\n",
    "###### Please refer the above link for details on Gradient Boosting"
   ]
  },
  {
   "cell_type": "code",
   "execution_count": 1,
   "metadata": {},
   "outputs": [],
   "source": [
    "# Import required libraries\n",
    "import pandas as pd\n",
    "import numpy as np\n",
    "import os as os\n",
    "from sklearn.ensemble import GradientBoostingClassifier\n",
    "from sklearn.model_selection import train_test_split\n",
    "from sklearn.preprocessing import StandardScaler\n",
    "from sklearn.decomposition import PCA"
   ]
  },
  {
   "cell_type": "code",
   "execution_count": 2,
   "metadata": {},
   "outputs": [],
   "source": [
    "# Set working dierctory\n",
    "os.chdir(\"..\")\n",
    "cwd = os.getcwd()\n",
    "os.chdir(f'{cwd}\\\\Data\\\\Model data\\\\')"
   ]
  },
  {
   "cell_type": "code",
   "execution_count": 3,
   "metadata": {},
   "outputs": [],
   "source": [
    "# Read the dataset\n",
    "data = pd.read_csv(\"Final_model_dataset.csv\")\n",
    "data = data.fillna(0)"
   ]
  },
  {
   "cell_type": "code",
   "execution_count": 4,
   "metadata": {},
   "outputs": [],
   "source": [
    "# Set the FIPS variable as index\n",
    "data = data.set_index(\"FIPS\")"
   ]
  },
  {
   "cell_type": "markdown",
   "metadata": {},
   "source": [
    "                 "
   ]
  },
  {
   "cell_type": "markdown",
   "metadata": {},
   "source": [
    "            "
   ]
  },
  {
   "cell_type": "markdown",
   "metadata": {},
   "source": [
    "              "
   ]
  },
  {
   "cell_type": "markdown",
   "metadata": {},
   "source": [
    "## Required Functions for this Model"
   ]
  },
  {
   "cell_type": "code",
   "execution_count": 5,
   "metadata": {},
   "outputs": [],
   "source": [
    "# Initial Variable reduction using GBM variable importance\n",
    "def Variable_Reduction(X_train, independent_vars, y_train):\n",
    "    X = X_train[independent_vars]\n",
    "    y = y_train\n",
    "    clf = GradientBoostingClassifier(loss='deviance', learning_rate=0.1, n_estimators=100, subsample=1.0, \n",
    "                                     criterion='friedman_mse', min_samples_split=0.05, max_depth=4, random_state=12345,\n",
    "                                     max_features=\"sqrt\")\n",
    "    clf.fit(X,y)\n",
    "    VarSel = pd.DataFrame(independent_vars)\n",
    "    VarSel.columns = [\"Variables\"]\n",
    "    VarSel[\"Importance\"] = (clf.feature_importances_)\n",
    "    return VarSel"
   ]
  },
  {
   "cell_type": "code",
   "execution_count": 6,
   "metadata": {},
   "outputs": [],
   "source": [
    "def Drop_one_var(X_train, independent_vars, y_train):\n",
    "    VarSel = Variable_Reduction(X_train, independent_vars, y_train)\n",
    "    VarSel = VarSel.sort_values([\"Importance\"], ascending=False)\n",
    "    min_imp = VarSel[\"Importance\"].min()\n",
    "    VarSel = VarSel[VarSel[\"Importance\"]> min_imp]\n",
    "    return list(VarSel[\"Variables\"])"
   ]
  },
  {
   "cell_type": "code",
   "execution_count": 7,
   "metadata": {},
   "outputs": [],
   "source": [
    "def KS_Table(dataset):\n",
    "    tmp_df = dataset.copy()\n",
    "    tmp_df['bin'] = pd.qcut(tmp_df[\"Prob\"], q=10, duplicates='drop')\n",
    "    tmp1 = (tmp_df.groupby(\"bin\").count()).drop(\"Prob\",axis=1)\n",
    "    tmp2 = (tmp_df.groupby(\"bin\").sum()).drop(\"Prob\",axis=1)\n",
    "    tmp3 = (tmp_df.groupby(\"bin\").mean()).drop(\"y\",axis=1)\n",
    "    tmp1.columns = [\"Total\"]\n",
    "    tmp2.columns = [\"Goods\"]\n",
    "    tmp3.columns = [\"PredRR\"]\n",
    "    tmp = tmp1.merge(tmp2, how=\"outer\", left_index=True, right_index=True)\n",
    "    tmp = tmp.merge(tmp3, how=\"outer\", left_index=True, right_index=True)\n",
    "    tmp = tmp.sort_values(\"PredRR\", ascending=False)\n",
    "    tmp[\"ObsRR\"] = tmp[\"Goods\"]/tmp[\"Total\"]\n",
    "    tmp[\"Bads\"] = tmp[\"Total\"] - tmp[\"Goods\"]\n",
    "    tmp[\"Perct_Goods\"] = tmp[\"Goods\"]/tmp[\"Goods\"].sum()\n",
    "    tmp[\"Perct_Bads\"] = tmp[\"Bads\"]/tmp[\"Bads\"].sum()\n",
    "    tmp[\"Cum_Perct_Goods\"] = tmp[\"Perct_Goods\"].cumsum()\n",
    "    tmp[\"Cum_Perct_Bads\"] = tmp[\"Perct_Bads\"].cumsum()\n",
    "    tmp[\"KS\"] = np.round(tmp[\"Cum_Perct_Goods\"] - tmp[\"Cum_Perct_Bads\"],3)*100\n",
    "    return tmp"
   ]
  },
  {
   "cell_type": "code",
   "execution_count": 8,
   "metadata": {},
   "outputs": [],
   "source": [
    "def Iter_GBM_HyperParam(X_train, y_train, X_test, y_test, independent_vars, NTrees, Depth, lr, subsample):\n",
    "    X1 = X_train[independent_vars]\n",
    "    y = y_train.ravel()\n",
    "    clf = GradientBoostingClassifier(loss='deviance', learning_rate=lr, n_estimators=NTrees, subsample=subsample, \n",
    "                                     criterion='friedman_mse', min_samples_split=0.05, max_depth=Depth, random_state=12345,\n",
    "                                     max_features=\"sqrt\")\n",
    "    clf.fit(X1,y)\n",
    "    # Performance on train sample\n",
    "    y_hat = clf.predict_proba(X1)\n",
    "    results_train = pd.DataFrame()\n",
    "    results_train[\"Prob\"] = (y_hat[: ][: , 1])\n",
    "    results_train[\"y\"] = y_train.ravel()\n",
    "    KS_Train_met = KS_Table(results_train)[\"KS\"].max()\n",
    "    \n",
    "    #Performance on test sample\n",
    "    X2 = X_test[independent_vars]\n",
    "    y_hat = clf.predict_proba(X2)\n",
    "    results_test = pd.DataFrame()\n",
    "    results_test[\"Prob\"] = (y_hat[: ][: , 1])\n",
    "    results_test[\"y\"] = y_test.ravel()\n",
    "    KS_Test_met = KS_Table(results_test)[\"KS\"].max()\n",
    "    \n",
    "    return KS_Train_met, KS_Test_met"
   ]
  },
  {
   "cell_type": "markdown",
   "metadata": {},
   "source": [
    "           "
   ]
  },
  {
   "cell_type": "markdown",
   "metadata": {},
   "source": [
    "               "
   ]
  },
  {
   "cell_type": "markdown",
   "metadata": {},
   "source": [
    "             "
   ]
  },
  {
   "cell_type": "markdown",
   "metadata": {},
   "source": [
    "### As the initial set of variables is really high (10,000+), we shall pick only the top variables based on Information value (IV).\n",
    "### IV was calculated in Logistic Regression model, and hence shall read the same csv file to save resources"
   ]
  },
  {
   "cell_type": "code",
   "execution_count": 9,
   "metadata": {},
   "outputs": [],
   "source": [
    "# Read IV file\n",
    "IV_table = pd.read_csv(\"Information_Value.csv\")"
   ]
  },
  {
   "cell_type": "code",
   "execution_count": 10,
   "metadata": {},
   "outputs": [],
   "source": [
    "# Put a cut-off of IV>0.10\n",
    "IV_table = IV_table[IV_table[\"IV\"]>0.10]"
   ]
  },
  {
   "cell_type": "code",
   "execution_count": 11,
   "metadata": {},
   "outputs": [],
   "source": [
    "Initial_Variables = list(IV_table[\"Variables\"])\n",
    "Initial_Variables.remove(\"Mortality_change_2012_2014\")"
   ]
  },
  {
   "cell_type": "markdown",
   "metadata": {},
   "source": [
    "             "
   ]
  },
  {
   "cell_type": "markdown",
   "metadata": {},
   "source": [
    "              "
   ]
  },
  {
   "cell_type": "markdown",
   "metadata": {},
   "source": [
    "             "
   ]
  },
  {
   "cell_type": "markdown",
   "metadata": {},
   "source": [
    "### Feature Scaling and PCA"
   ]
  },
  {
   "cell_type": "code",
   "execution_count": 12,
   "metadata": {},
   "outputs": [],
   "source": [
    "# Standardizing the features\n",
    "X = data[Initial_Variables]\n",
    "StdSclr = StandardScaler().fit(X)\n",
    "X1 = StdSclr.transform(X)"
   ]
  },
  {
   "cell_type": "code",
   "execution_count": 13,
   "metadata": {},
   "outputs": [],
   "source": [
    "# PCA transformation\n",
    "pca = PCA(n_components=20)\n",
    "pcafit = pca.fit(X1)\n",
    "pricipalComponents = pcafit.transform(X1)"
   ]
  },
  {
   "cell_type": "code",
   "execution_count": 14,
   "metadata": {},
   "outputs": [
    {
     "data": {
      "text/html": [
       "<div>\n",
       "<style scoped>\n",
       "    .dataframe tbody tr th:only-of-type {\n",
       "        vertical-align: middle;\n",
       "    }\n",
       "\n",
       "    .dataframe tbody tr th {\n",
       "        vertical-align: top;\n",
       "    }\n",
       "\n",
       "    .dataframe thead th {\n",
       "        text-align: right;\n",
       "    }\n",
       "</style>\n",
       "<table border=\"1\" class=\"dataframe\">\n",
       "  <thead>\n",
       "    <tr style=\"text-align: right;\">\n",
       "      <th></th>\n",
       "      <th>PCA_0</th>\n",
       "      <th>PCA_1</th>\n",
       "      <th>PCA_2</th>\n",
       "      <th>PCA_3</th>\n",
       "      <th>PCA_4</th>\n",
       "      <th>PCA_5</th>\n",
       "      <th>PCA_6</th>\n",
       "      <th>PCA_7</th>\n",
       "      <th>PCA_8</th>\n",
       "      <th>PCA_9</th>\n",
       "      <th>PCA_10</th>\n",
       "      <th>PCA_11</th>\n",
       "      <th>PCA_12</th>\n",
       "      <th>PCA_13</th>\n",
       "      <th>PCA_14</th>\n",
       "      <th>PCA_15</th>\n",
       "      <th>PCA_16</th>\n",
       "      <th>PCA_17</th>\n",
       "      <th>PCA_18</th>\n",
       "      <th>PCA_19</th>\n",
       "    </tr>\n",
       "  </thead>\n",
       "  <tbody>\n",
       "    <tr>\n",
       "      <th>0</th>\n",
       "      <td>30.800210</td>\n",
       "      <td>-0.080506</td>\n",
       "      <td>-19.539556</td>\n",
       "      <td>-0.521350</td>\n",
       "      <td>-4.892962</td>\n",
       "      <td>10.687493</td>\n",
       "      <td>-4.427965</td>\n",
       "      <td>-0.226237</td>\n",
       "      <td>1.437680</td>\n",
       "      <td>1.142730</td>\n",
       "      <td>1.398541</td>\n",
       "      <td>-3.349505</td>\n",
       "      <td>-1.352425</td>\n",
       "      <td>-2.151346</td>\n",
       "      <td>0.662061</td>\n",
       "      <td>3.573247</td>\n",
       "      <td>-4.404153</td>\n",
       "      <td>5.230679</td>\n",
       "      <td>4.531200</td>\n",
       "      <td>0.445413</td>\n",
       "    </tr>\n",
       "    <tr>\n",
       "      <th>1</th>\n",
       "      <td>12.740122</td>\n",
       "      <td>10.938975</td>\n",
       "      <td>3.637980</td>\n",
       "      <td>-4.474000</td>\n",
       "      <td>-0.578941</td>\n",
       "      <td>-0.353140</td>\n",
       "      <td>-5.299740</td>\n",
       "      <td>-2.149521</td>\n",
       "      <td>4.546507</td>\n",
       "      <td>1.168551</td>\n",
       "      <td>0.804265</td>\n",
       "      <td>-10.136213</td>\n",
       "      <td>1.518269</td>\n",
       "      <td>3.725885</td>\n",
       "      <td>-6.935435</td>\n",
       "      <td>2.905359</td>\n",
       "      <td>-2.771966</td>\n",
       "      <td>3.488961</td>\n",
       "      <td>3.783354</td>\n",
       "      <td>-1.189574</td>\n",
       "    </tr>\n",
       "    <tr>\n",
       "      <th>2</th>\n",
       "      <td>39.124687</td>\n",
       "      <td>-4.440052</td>\n",
       "      <td>-0.806659</td>\n",
       "      <td>14.784193</td>\n",
       "      <td>-9.635509</td>\n",
       "      <td>-3.036066</td>\n",
       "      <td>-4.898818</td>\n",
       "      <td>2.744003</td>\n",
       "      <td>-2.873641</td>\n",
       "      <td>-0.837786</td>\n",
       "      <td>-7.232776</td>\n",
       "      <td>-2.673396</td>\n",
       "      <td>-5.154757</td>\n",
       "      <td>1.508923</td>\n",
       "      <td>-6.775394</td>\n",
       "      <td>0.515631</td>\n",
       "      <td>-8.747493</td>\n",
       "      <td>0.930424</td>\n",
       "      <td>2.856062</td>\n",
       "      <td>6.830455</td>\n",
       "    </tr>\n",
       "    <tr>\n",
       "      <th>3</th>\n",
       "      <td>41.827004</td>\n",
       "      <td>-5.801363</td>\n",
       "      <td>-14.667366</td>\n",
       "      <td>9.847788</td>\n",
       "      <td>-7.560088</td>\n",
       "      <td>11.980695</td>\n",
       "      <td>-2.048175</td>\n",
       "      <td>-4.252003</td>\n",
       "      <td>-5.715849</td>\n",
       "      <td>-5.598667</td>\n",
       "      <td>-8.055208</td>\n",
       "      <td>1.673605</td>\n",
       "      <td>-0.945552</td>\n",
       "      <td>-2.294522</td>\n",
       "      <td>-4.465388</td>\n",
       "      <td>1.328500</td>\n",
       "      <td>-7.930982</td>\n",
       "      <td>3.100608</td>\n",
       "      <td>0.200714</td>\n",
       "      <td>2.369855</td>\n",
       "    </tr>\n",
       "    <tr>\n",
       "      <th>4</th>\n",
       "      <td>24.219103</td>\n",
       "      <td>-3.018081</td>\n",
       "      <td>-9.340286</td>\n",
       "      <td>-2.979836</td>\n",
       "      <td>-3.470174</td>\n",
       "      <td>8.440551</td>\n",
       "      <td>-2.191821</td>\n",
       "      <td>-7.379514</td>\n",
       "      <td>4.609513</td>\n",
       "      <td>-6.045881</td>\n",
       "      <td>-0.509905</td>\n",
       "      <td>2.351524</td>\n",
       "      <td>5.192318</td>\n",
       "      <td>-1.261350</td>\n",
       "      <td>3.257939</td>\n",
       "      <td>-1.168660</td>\n",
       "      <td>-3.119961</td>\n",
       "      <td>1.747020</td>\n",
       "      <td>0.828917</td>\n",
       "      <td>1.446436</td>\n",
       "    </tr>\n",
       "  </tbody>\n",
       "</table>\n",
       "</div>"
      ],
      "text/plain": [
       "       PCA_0      PCA_1      PCA_2      PCA_3     PCA_4      PCA_5     PCA_6  \\\n",
       "0  30.800210  -0.080506 -19.539556  -0.521350 -4.892962  10.687493 -4.427965   \n",
       "1  12.740122  10.938975   3.637980  -4.474000 -0.578941  -0.353140 -5.299740   \n",
       "2  39.124687  -4.440052  -0.806659  14.784193 -9.635509  -3.036066 -4.898818   \n",
       "3  41.827004  -5.801363 -14.667366   9.847788 -7.560088  11.980695 -2.048175   \n",
       "4  24.219103  -3.018081  -9.340286  -2.979836 -3.470174   8.440551 -2.191821   \n",
       "\n",
       "      PCA_7     PCA_8     PCA_9    PCA_10     PCA_11    PCA_12    PCA_13  \\\n",
       "0 -0.226237  1.437680  1.142730  1.398541  -3.349505 -1.352425 -2.151346   \n",
       "1 -2.149521  4.546507  1.168551  0.804265 -10.136213  1.518269  3.725885   \n",
       "2  2.744003 -2.873641 -0.837786 -7.232776  -2.673396 -5.154757  1.508923   \n",
       "3 -4.252003 -5.715849 -5.598667 -8.055208   1.673605 -0.945552 -2.294522   \n",
       "4 -7.379514  4.609513 -6.045881 -0.509905   2.351524  5.192318 -1.261350   \n",
       "\n",
       "     PCA_14    PCA_15    PCA_16    PCA_17    PCA_18    PCA_19  \n",
       "0  0.662061  3.573247 -4.404153  5.230679  4.531200  0.445413  \n",
       "1 -6.935435  2.905359 -2.771966  3.488961  3.783354 -1.189574  \n",
       "2 -6.775394  0.515631 -8.747493  0.930424  2.856062  6.830455  \n",
       "3 -4.465388  1.328500 -7.930982  3.100608  0.200714  2.369855  \n",
       "4  3.257939 -1.168660 -3.119961  1.747020  0.828917  1.446436  "
      ]
     },
     "execution_count": 14,
     "metadata": {},
     "output_type": "execute_result"
    }
   ],
   "source": [
    "# Convert the Principal Components into a pandas dataframe\n",
    "arr = list(np.arange(0,20,1))\n",
    "colnames = [(\"PCA_\"+str(ar)) for ar in arr]\n",
    "principalDf = pd.DataFrame(data = pricipalComponents, columns = colnames)\n",
    "principalDf.head()"
   ]
  },
  {
   "cell_type": "markdown",
   "metadata": {},
   "source": [
    "           "
   ]
  },
  {
   "cell_type": "markdown",
   "metadata": {},
   "source": [
    "              "
   ]
  },
  {
   "cell_type": "markdown",
   "metadata": {},
   "source": [
    "               "
   ]
  },
  {
   "cell_type": "markdown",
   "metadata": {},
   "source": [
    "## Selecting the model"
   ]
  },
  {
   "cell_type": "code",
   "execution_count": 15,
   "metadata": {},
   "outputs": [],
   "source": [
    "# Split the data in train and test\n",
    "X_train, X_test, y_train, y_test = train_test_split(principalDf, data[\"Target\"], test_size=0.33, random_state=12345)"
   ]
  },
  {
   "cell_type": "code",
   "execution_count": 16,
   "metadata": {},
   "outputs": [],
   "source": [
    "initial_vars = list(principalDf.columns)"
   ]
  },
  {
   "cell_type": "code",
   "execution_count": 17,
   "metadata": {},
   "outputs": [],
   "source": [
    "NTrees = [50, 100]\n",
    "Depth = [2,3,4]\n",
    "Learn_Rate = [0.01, 0.05, 0.10]\n",
    "subsamp = [0.7, 0.8]\n",
    "expected_length = (len(NTrees)*len(Depth)*len(Learn_Rate)*len(subsamp)*len(initial_vars))\n",
    "KS_Train = [None]*expected_length\n",
    "KS_Test = [None]*expected_length\n",
    "NTrees_met = [None]*expected_length\n",
    "Depth_met = [None]*expected_length\n",
    "LR_met = [None]*expected_length\n",
    "subsamp_met = [None]*expected_length\n",
    "No_Vars = [None]*expected_length"
   ]
  },
  {
   "cell_type": "code",
   "execution_count": 18,
   "metadata": {},
   "outputs": [],
   "source": [
    "ite = 0\n",
    "while(len(initial_vars)>5):\n",
    "    for i in range(0, len(NTrees)):\n",
    "        for j in range(0, len(Depth)):\n",
    "            for k in range(0,len(Learn_Rate)):\n",
    "                for l in range(0, len(subsamp)):\n",
    "                    NTrees_met[ite] = NTrees[i]\n",
    "                    Depth_met[ite] = Depth[j]\n",
    "                    LR_met[ite] = Learn_Rate[k]\n",
    "                    subsamp_met[ite] = subsamp[l]\n",
    "                    No_Vars[ite] = len(initial_vars)\n",
    "                    KS_Train[ite], KS_Test[ite] = Iter_GBM_HyperParam(X_train,y_train, X_test, y_test, initial_vars, NTrees[i], \n",
    "                                                                      Depth[j], Learn_Rate[k], subsamp[l])\n",
    "                    ite += 1\n",
    "    initial_vars = Drop_one_var(X_train, initial_vars, y_train)\n",
    "    pd.DataFrame(initial_vars).to_csv(\"GBM_\"+str(len(initial_vars))+\".csv\")"
   ]
  },
  {
   "cell_type": "code",
   "execution_count": 19,
   "metadata": {},
   "outputs": [],
   "source": [
    "results = pd.DataFrame()\n",
    "results[\"No_Vars\"] = No_Vars[0:ite]\n",
    "results[\"NTrees_met\"] = NTrees_met[0:ite]\n",
    "results[\"Depth_met\"] = Depth_met[0:ite]\n",
    "results[\"Learning_Rate\"] = LR_met[0:ite]\n",
    "results[\"Subsample\"] = subsamp_met[0:ite]\n",
    "results[\"KS_Train\"] = KS_Train[0:ite]\n",
    "results[\"KS_Test\"] = KS_Test[0:ite]"
   ]
  },
  {
   "cell_type": "code",
   "execution_count": 20,
   "metadata": {},
   "outputs": [
    {
     "name": "stdout",
     "output_type": "stream",
     "text": [
      "     No_Vars  NTrees_met  Depth_met  Learning_Rate  Subsample  KS_Train  KS_Test\n",
      "0         20          50          2           0.01        0.7      47.6     48.3\n",
      "1         20          50          2           0.01        0.8      48.3     47.1\n",
      "2         20          50          2           0.05        0.7      51.4     49.0\n",
      "3         20          50          2           0.05        0.8      52.6     48.3\n",
      "4         20          50          2           0.10        0.7      55.2     46.4\n",
      "5         20          50          2           0.10        0.8      55.2     46.8\n",
      "6         20          50          3           0.01        0.7      51.1     47.0\n",
      "7         20          50          3           0.01        0.8      50.5     49.0\n",
      "8         20          50          3           0.05        0.7      57.4     47.7\n",
      "9         20          50          3           0.05        0.8      57.4     48.3\n",
      "10        20          50          3           0.10        0.7      61.5     47.7\n",
      "11        20          50          3           0.10        0.8      61.8     47.0\n",
      "12        20          50          4           0.01        0.7      55.8     47.7\n",
      "13        20          50          4           0.01        0.8      56.7     46.3\n",
      "14        20          50          4           0.05        0.7      63.7     49.0\n",
      "15        20          50          4           0.05        0.8      64.3     49.6\n",
      "16        20          50          4           0.10        0.7      68.4     48.3\n",
      "17        20          50          4           0.10        0.8      70.6     49.0\n",
      "18        20         100          2           0.01        0.7      48.9     50.3\n",
      "19        20         100          2           0.01        0.8      49.2     49.6\n",
      "20        20         100          2           0.05        0.7      55.2     51.0\n",
      "21        20         100          2           0.05        0.8      55.8     48.3\n",
      "22        20         100          2           0.10        0.7      60.2     47.0\n",
      "23        20         100          2           0.10        0.8      61.8     49.6\n",
      "24        20         100          3           0.01        0.7      53.6     50.3\n",
      "25        20         100          3           0.01        0.8      53.6     50.3\n",
      "26        20         100          3           0.05        0.7      63.1     47.7\n",
      "27        20         100          3           0.05        0.8      62.8     49.0\n",
      "28        20         100          3           0.10        0.7      70.3     46.1\n",
      "29        20         100          3           0.10        0.8      69.4     46.3\n",
      "30        20         100          4           0.01        0.7      58.1     49.6\n",
      "31        20         100          4           0.01        0.8      59.6     49.6\n",
      "32        20         100          4           0.05        0.7      69.7     51.0\n",
      "33        20         100          4           0.05        0.8      69.4     48.3\n",
      "34        20         100          4           0.10        0.7      78.9     48.3\n",
      "35        20         100          4           0.10        0.8      79.5     48.4\n",
      "36        19          50          2           0.01        0.7      46.9     47.0\n",
      "37        19          50          2           0.01        0.8      45.4     45.0\n",
      "38        19          50          2           0.05        0.7      52.0     49.0\n",
      "39        19          50          2           0.05        0.8      52.0     46.3\n",
      "40        19          50          2           0.10        0.7      56.1     45.7\n",
      "41        19          50          2           0.10        0.8      54.9     49.6\n",
      "42        19          50          3           0.01        0.7      50.7     50.3\n",
      "43        19          50          3           0.01        0.8      50.5     49.0\n",
      "44        19          50          3           0.05        0.7      57.1     49.6\n",
      "45        19          50          3           0.05        0.8      58.7     51.0\n",
      "46        19          50          3           0.10        0.7      61.8     47.7\n",
      "47        19          50          3           0.10        0.8      63.4     49.0\n",
      "48        19          50          4           0.01        0.7      56.1     49.0\n",
      "49        19          50          4           0.01        0.8      56.1     48.3\n",
      "50        19          50          4           0.05        0.7      63.7     48.1\n",
      "51        19          50          4           0.05        0.8      63.1     52.3\n",
      "52        19          50          4           0.10        0.7      69.7     49.6\n",
      "53        19          50          4           0.10        0.8      70.0     49.1\n",
      "54        19         100          2           0.01        0.7      48.5     47.7\n",
      "55        19         100          2           0.01        0.8      47.0     46.3\n",
      "56        19         100          2           0.05        0.7      55.8     48.3\n",
      "57        19         100          2           0.05        0.8      57.1     47.0\n",
      "58        19         100          2           0.10        0.7      60.3     47.1\n",
      "59        19         100          2           0.10        0.8      61.8     47.4\n",
      "60        19         100          3           0.01        0.7      53.0     50.3\n",
      "61        19         100          3           0.01        0.8      53.6     49.0\n",
      "62        19         100          3           0.05        0.7      62.2     48.3\n",
      "63        19         100          3           0.05        0.8      62.8     49.1\n",
      "64        19         100          3           0.10        0.7      70.6     46.3\n",
      "65        19         100          3           0.10        0.8      70.3     47.0\n",
      "66        19         100          4           0.01        0.7      59.0     50.3\n",
      "67        19         100          4           0.01        0.8      58.6     50.3\n",
      "68        19         100          4           0.05        0.7      68.7     47.0\n",
      "69        19         100          4           0.05        0.8      70.3     49.0\n",
      "70        19         100          4           0.10        0.7      78.9     48.3\n",
      "71        19         100          4           0.10        0.8      79.5     47.8\n",
      "72        18          50          2           0.01        0.7      47.6     49.0\n",
      "73        18          50          2           0.01        0.8      48.3     49.0\n",
      "74        18          50          2           0.05        0.7      52.3     49.0\n",
      "75        18          50          2           0.05        0.8      52.7     47.7\n",
      "76        18          50          2           0.10        0.7      54.3     50.3\n",
      "77        18          50          2           0.10        0.8      57.4     47.7\n",
      "78        18          50          3           0.01        0.7      50.7     48.3\n",
      "79        18          50          3           0.01        0.8      52.3     47.8\n",
      "80        18          50          3           0.05        0.7      58.1     49.0\n",
      "81        18          50          3           0.05        0.8      60.5     50.3\n",
      "82        18          50          3           0.10        0.7      62.7     47.7\n",
      "83        18          50          3           0.10        0.8      65.3     49.0\n",
      "84        18          50          4           0.01        0.7      55.5     49.6\n",
      "85        18          50          4           0.01        0.8      58.0     47.8\n",
      "86        18          50          4           0.05        0.7      61.8     48.3\n",
      "87        18          50          4           0.05        0.8      63.7     47.8\n",
      "88        18          50          4           0.10        0.7      69.1     44.3\n",
      "89        18          50          4           0.10        0.8      70.3     46.8\n",
      "90        18         100          2           0.01        0.7      48.9     49.0\n",
      "91        18         100          2           0.01        0.8      49.5     49.6\n",
      "92        18         100          2           0.05        0.7      55.2     49.0\n",
      "93        18         100          2           0.05        0.8      56.8     49.0\n",
      "94        18         100          2           0.10        0.7      59.3     47.7\n",
      "95        18         100          2           0.10        0.8      61.5     47.8\n",
      "96        18         100          3           0.01        0.7      54.3     51.6\n",
      "97        18         100          3           0.01        0.8      53.9     48.1\n",
      "98        18         100          3           0.05        0.7      62.4     48.3\n",
      "99        18         100          3           0.05        0.8      62.1     49.0\n",
      "100       18         100          3           0.10        0.7      69.7     48.3\n",
      "101       18         100          3           0.10        0.8      72.2     46.4\n",
      "102       18         100          4           0.01        0.7      59.0     50.3\n",
      "103       18         100          4           0.01        0.8      59.6     49.0\n",
      "104       18         100          4           0.05        0.7      67.8     47.7\n",
      "105       18         100          4           0.05        0.8      69.7     49.6\n",
      "106       18         100          4           0.10        0.7      77.9     46.4\n",
      "107       18         100          4           0.10        0.8      79.5     45.8\n",
      "108       17          50          2           0.01        0.7      46.0     47.1\n",
      "109       17          50          2           0.01        0.8      46.0     47.0\n",
      "110       17          50          2           0.05        0.7      49.9     49.6\n",
      "111       17          50          2           0.05        0.8      50.2     47.7\n",
      "112       17          50          2           0.10        0.7      54.3     49.0\n",
      "113       17          50          2           0.10        0.8      54.3     49.6\n",
      "114       17          50          3           0.01        0.7      53.0     49.0\n",
      "115       17          50          3           0.01        0.8      53.6     47.7\n",
      "116       17          50          3           0.05        0.7      57.4     49.4\n",
      "117       17          50          3           0.05        0.8      58.4     49.6\n",
      "118       17          50          3           0.10        0.7      59.9     49.1\n",
      "119       17          50          3           0.10        0.8      63.7     47.4\n",
      "120       17          50          4           0.01        0.7      57.4     49.0\n",
      "121       17          50          4           0.01        0.8      57.7     49.6\n",
      "122       17          50          4           0.05        0.7      62.1     49.1\n",
      "123       17          50          4           0.05        0.8      62.8     47.0\n",
      "124       17          50          4           0.10        0.7      67.2     46.4\n",
      "125       17          50          4           0.10        0.8      70.0     47.4\n",
      "126       17         100          2           0.01        0.7      46.9     48.4\n",
      "127       17         100          2           0.01        0.8      46.0     47.1\n",
      "128       17         100          2           0.05        0.7      56.4     50.3\n",
      "129       17         100          2           0.05        0.8      55.2     51.0\n",
      "130       17         100          2           0.10        0.7      60.9     48.3\n",
      "131       17         100          2           0.10        0.8      60.9     49.0\n",
      "132       17         100          3           0.01        0.7      53.3     48.3\n",
      "133       17         100          3           0.01        0.8      55.5     48.3\n",
      "134       17         100          3           0.05        0.7      61.5     49.0\n",
      "135       17         100          3           0.05        0.8      61.5     49.0\n",
      "136       17         100          3           0.10        0.7      69.1     48.3\n",
      "137       17         100          3           0.10        0.8      72.2     45.8\n",
      "138       17         100          4           0.01        0.7      58.7     49.0\n",
      "139       17         100          4           0.01        0.8      59.9     49.0\n",
      "140       17         100          4           0.05        0.7      68.7     47.8\n",
      "141       17         100          4           0.05        0.8      69.7     46.1\n",
      "142       17         100          4           0.10        0.7      78.2     46.3\n",
      "143       17         100          4           0.10        0.8      77.9     48.3\n",
      "144       16          50          2           0.01        0.7      45.7     48.4\n",
      "145       16          50          2           0.01        0.8      46.6     48.4\n",
      "146       16          50          2           0.05        0.7      50.2     49.0\n",
      "147       16          50          2           0.05        0.8      50.5     51.0\n",
      "148       16          50          2           0.10        0.7      54.3     49.6\n",
      "149       16          50          2           0.10        0.8      55.5     48.3\n",
      "150       16          50          3           0.01        0.7      52.6     50.3\n",
      "151       16          50          3           0.01        0.8      52.0     51.0\n",
      "152       16          50          3           0.05        0.7      57.4     49.0\n",
      "153       16          50          3           0.05        0.8      57.1     53.0\n",
      "154       16          50          3           0.10        0.7      62.5     48.3\n",
      "155       16          50          3           0.10        0.8      63.4     50.3\n",
      "156       16          50          4           0.01        0.7      57.4     49.1\n",
      "157       16          50          4           0.01        0.8      58.1     47.7\n",
      "158       16          50          4           0.05        0.7      63.1     48.8\n",
      "159       16          50          4           0.05        0.8      63.7     50.3\n",
      "160       16          50          4           0.10        0.7      67.2     49.6\n",
      "161       16          50          4           0.10        0.8      68.7     45.0\n",
      "162       16         100          2           0.01        0.7      47.3     49.0\n",
      "163       16         100          2           0.01        0.8      47.9     47.8\n",
      "164       16         100          2           0.05        0.7      54.6     49.0\n",
      "165       16         100          2           0.05        0.8      56.5     50.3\n",
      "166       16         100          2           0.10        0.7      61.2     48.1\n",
      "167       16         100          2           0.10        0.8      60.9     47.7\n",
      "168       16         100          3           0.01        0.7      54.3     51.0\n",
      "169       16         100          3           0.01        0.8      54.6     51.0\n",
      "170       16         100          3           0.05        0.7      61.5     49.6\n",
      "171       16         100          3           0.05        0.8      62.7     48.3\n",
      "172       16         100          3           0.10        0.7      71.0     46.3\n",
      "173       16         100          3           0.10        0.8      71.6     48.3\n",
      "174       16         100          4           0.01        0.7      59.0     51.0\n",
      "175       16         100          4           0.01        0.8      58.7     49.6\n",
      "176       16         100          4           0.05        0.7      70.3     47.4\n",
      "177       16         100          4           0.05        0.8      69.7     48.3\n",
      "178       16         100          4           0.10        0.7      78.9     48.3\n",
      "179       16         100          4           0.10        0.8      80.1     43.8\n",
      "180       15          50          2           0.01        0.7      47.6     47.7\n",
      "181       15          50          2           0.01        0.8      48.5     48.3\n",
      "182       15          50          2           0.05        0.7      51.7     47.0\n",
      "183       15          50          2           0.05        0.8      52.7     47.4\n",
      "184       15          50          2           0.10        0.7      54.6     48.3\n",
      "185       15          50          2           0.10        0.8      55.8     48.3\n",
      "186       15          50          3           0.01        0.7      51.4     49.0\n",
      "187       15          50          3           0.01        0.8      52.7     48.3\n",
      "188       15          50          3           0.05        0.7      55.2     47.7\n",
      "189       15          50          3           0.05        0.8      58.7     49.6\n",
      "190       15          50          3           0.10        0.7      61.8     47.1\n",
      "191       15          50          3           0.10        0.8      62.8     48.4\n",
      "192       15          50          4           0.01        0.7      57.4     49.0\n",
      "193       15          50          4           0.01        0.8      57.1     45.7\n",
      "194       15          50          4           0.05        0.7      62.7     46.3\n",
      "195       15          50          4           0.05        0.8      62.1     47.7\n",
      "196       15          50          4           0.10        0.7      66.3     46.3\n",
      "197       15          50          4           0.10        0.8      68.4     46.3\n",
      "198       15         100          2           0.01        0.7      50.2     49.6\n",
      "199       15         100          2           0.01        0.8      49.2     48.3\n",
      "200       15         100          2           0.05        0.7      55.2     48.3\n",
      "201       15         100          2           0.05        0.8      55.8     47.7\n",
      "202       15         100          2           0.10        0.7      61.5     47.0\n",
      "203       15         100          2           0.10        0.8      60.9     49.0\n",
      "204       15         100          3           0.01        0.7      53.3     47.7\n",
      "205       15         100          3           0.01        0.8      54.3     48.3\n",
      "206       15         100          3           0.05        0.7      60.6     47.7\n",
      "207       15         100          3           0.05        0.8      62.8     47.8\n",
      "208       15         100          3           0.10        0.7      68.1     46.3\n",
      "209       15         100          3           0.10        0.8      70.0     46.4\n",
      "210       15         100          4           0.01        0.7      59.3     49.0\n",
      "211       15         100          4           0.01        0.8      59.9     47.7\n",
      "212       15         100          4           0.05        0.7      68.2     47.0\n",
      "213       15         100          4           0.05        0.8      68.7     47.7\n",
      "214       15         100          4           0.10        0.7      77.3     46.1\n",
      "215       15         100          4           0.10        0.8      78.2     45.7\n",
      "216       14          50          2           0.01        0.7      47.0     47.8\n",
      "217       14          50          2           0.01        0.8      48.3     49.6\n",
      "218       14          50          2           0.05        0.7      51.1     49.0\n",
      "219       14          50          2           0.05        0.8      51.4     49.6\n",
      "220       14          50          2           0.10        0.7      53.6     48.3\n",
      "221       14          50          2           0.10        0.8      53.6     49.6\n",
      "222       14          50          3           0.01        0.7      51.4     49.0\n",
      "223       14          50          3           0.01        0.8      52.0     49.6\n",
      "224       14          50          3           0.05        0.7      55.2     49.0\n",
      "225       14          50          3           0.05        0.8      56.4     50.3\n",
      "226       14          50          3           0.10        0.7      60.6     48.4\n",
      "227       14          50          3           0.10        0.8      60.3     50.3\n",
      "228       14          50          4           0.01        0.7      55.8     49.0\n",
      "229       14          50          4           0.01        0.8      54.9     50.3\n",
      "230       14          50          4           0.05        0.7      61.8     47.4\n",
      "231       14          50          4           0.05        0.8      62.8     48.3\n",
      "232       14          50          4           0.10        0.7      66.2     47.0\n",
      "233       14          50          4           0.10        0.8      65.6     47.1\n",
      "234       14         100          2           0.01        0.7      47.9     49.0\n",
      "235       14         100          2           0.01        0.8      49.8     49.6\n",
      "236       14         100          2           0.05        0.7      55.5     49.6\n",
      "237       14         100          2           0.05        0.8      55.8     48.3\n",
      "238       14         100          2           0.10        0.7      59.6     47.1\n",
      "239       14         100          2           0.10        0.8      59.3     48.3\n",
      "240       14         100          3           0.01        0.7      53.6     49.6\n",
      "241       14         100          3           0.01        0.8      53.6     50.3\n",
      "242       14         100          3           0.05        0.7      61.5     47.8\n",
      "243       14         100          3           0.05        0.8      61.2     48.4\n",
      "244       14         100          3           0.10        0.7      67.2     47.1\n",
      "245       14         100          3           0.10        0.8      69.7     49.0\n",
      "246       14         100          4           0.01        0.7      58.0     49.6\n",
      "247       14         100          4           0.01        0.8      59.0     49.6\n",
      "248       14         100          4           0.05        0.7      67.2     47.7\n",
      "249       14         100          4           0.05        0.8      68.2     47.7\n",
      "250       14         100          4           0.10        0.7      75.7     49.0\n",
      "251       14         100          4           0.10        0.8      76.6     47.1\n",
      "252       13          50          2           0.01        0.7      47.3     48.3\n",
      "253       13          50          2           0.01        0.8      46.3     45.8\n",
      "254       13          50          2           0.05        0.7      51.1     49.6\n",
      "255       13          50          2           0.05        0.8      51.1     51.0\n",
      "256       13          50          2           0.10        0.7      54.6     48.1\n",
      "257       13          50          2           0.10        0.8      54.6     50.3\n",
      "258       13          50          3           0.01        0.7      51.7     49.0\n",
      "259       13          50          3           0.01        0.8      52.0     49.6\n",
      "260       13          50          3           0.05        0.7      56.8     48.3\n",
      "261       13          50          3           0.05        0.8      55.8     48.3\n",
      "262       13          50          3           0.10        0.7      60.3     47.1\n",
      "263       13          50          3           0.10        0.8      60.6     47.4\n",
      "264       13          50          4           0.01        0.7      55.2     49.0\n",
      "265       13          50          4           0.01        0.8      54.6     48.3\n",
      "266       13          50          4           0.05        0.7      61.5     49.0\n",
      "267       13          50          4           0.05        0.8      61.5     48.3\n",
      "268       13          50          4           0.10        0.7      66.5     46.4\n",
      "269       13          50          4           0.10        0.8      68.1     46.3\n",
      "270       13         100          2           0.01        0.7      48.9     49.0\n",
      "271       13         100          2           0.01        0.8      48.2     47.7\n",
      "272       13         100          2           0.05        0.7      55.8     50.3\n",
      "273       13         100          2           0.05        0.8      55.5     51.0\n",
      "274       13         100          2           0.10        0.7      59.9     49.1\n",
      "275       13         100          2           0.10        0.8      59.9     48.3\n",
      "276       13         100          3           0.01        0.7      52.7     49.0\n",
      "277       13         100          3           0.01        0.8      54.9     51.0\n",
      "278       13         100          3           0.05        0.7      60.9     49.0\n",
      "279       13         100          3           0.05        0.8      60.5     50.3\n",
      "280       13         100          3           0.10        0.7      68.1     46.3\n",
      "281       13         100          3           0.10        0.8      67.8     47.0\n",
      "282       13         100          4           0.01        0.7      57.7     48.3\n",
      "283       13         100          4           0.01        0.8      58.1     47.7\n",
      "284       13         100          4           0.05        0.7      67.2     49.6\n",
      "285       13         100          4           0.05        0.8      65.9     47.4\n",
      "286       13         100          4           0.10        0.7      76.3     48.4\n",
      "287       13         100          4           0.10        0.8      76.3     46.3\n",
      "288       12          50          2           0.01        0.7      47.6     48.3\n",
      "289       12          50          2           0.01        0.8      47.0     49.0\n",
      "290       12          50          2           0.05        0.7      52.4     49.6\n",
      "291       12          50          2           0.05        0.8      51.7     47.4\n",
      "292       12          50          2           0.10        0.7      56.2     49.6\n",
      "293       12          50          2           0.10        0.8      56.2     47.7\n",
      "294       12          50          3           0.01        0.7      51.4     49.6\n",
      "295       12          50          3           0.01        0.8      51.1     48.3\n",
      "296       12          50          3           0.05        0.7      56.2     47.0\n",
      "297       12          50          3           0.05        0.8      57.1     46.8\n",
      "298       12          50          3           0.10        0.7      60.8     45.0\n",
      "299       12          50          3           0.10        0.8      62.2     45.8\n",
      "300       12          50          4           0.01        0.7      56.5     49.0\n",
      "301       12          50          4           0.01        0.8      56.5     49.0\n",
      "302       12          50          4           0.05        0.7      61.8     46.3\n",
      "303       12          50          4           0.05        0.8      65.0     48.3\n",
      "304       12          50          4           0.10        0.7      67.5     47.1\n",
      "305       12          50          4           0.10        0.8      67.8     44.3\n",
      "306       12         100          2           0.01        0.7      48.6     49.0\n",
      "307       12         100          2           0.01        0.8      48.6     49.0\n",
      "308       12         100          2           0.05        0.7      55.8     50.3\n",
      "309       12         100          2           0.05        0.8      55.2     48.1\n",
      "310       12         100          2           0.10        0.7      60.3     47.7\n",
      "311       12         100          2           0.10        0.8      60.3     46.8\n",
      "312       12         100          3           0.01        0.7      52.3     49.6\n",
      "313       12         100          3           0.01        0.8      53.0     51.0\n",
      "314       12         100          3           0.05        0.7      61.5     47.7\n",
      "315       12         100          3           0.05        0.8      61.2     46.8\n",
      "316       12         100          3           0.10        0.7      67.5     47.1\n",
      "317       12         100          3           0.10        0.8      70.6     44.4\n",
      "318       12         100          4           0.01        0.7      59.0     50.3\n",
      "319       12         100          4           0.01        0.8      59.0     51.0\n",
      "320       12         100          4           0.05        0.7      68.1     45.8\n",
      "321       12         100          4           0.05        0.8      68.7     46.3\n",
      "322       12         100          4           0.10        0.7      76.3     46.3\n",
      "323       12         100          4           0.10        0.8      78.2     45.1\n",
      "324       11          50          2           0.01        0.7      47.3     47.0\n",
      "325       11          50          2           0.01        0.8      46.0     48.3\n",
      "326       11          50          2           0.05        0.7      50.1     47.7\n",
      "327       11          50          2           0.05        0.8      51.1     49.0\n",
      "328       11          50          2           0.10        0.7      53.0     48.3\n",
      "329       11          50          2           0.10        0.8      54.3     47.7\n",
      "330       11          50          3           0.01        0.7      50.7     49.0\n",
      "331       11          50          3           0.01        0.8      52.0     47.7\n",
      "332       11          50          3           0.05        0.7      56.5     51.0\n",
      "333       11          50          3           0.05        0.8      56.7     50.3\n",
      "334       11          50          3           0.10        0.7      59.9     46.4\n",
      "335       11          50          3           0.10        0.8      61.2     48.1\n",
      "336       11          50          4           0.01        0.7      57.1     47.1\n",
      "337       11          50          4           0.01        0.8      56.5     48.3\n",
      "338       11          50          4           0.05        0.7      61.8     48.3\n",
      "339       11          50          4           0.05        0.8      62.8     47.7\n",
      "340       11          50          4           0.10        0.7      64.6     47.0\n",
      "341       11          50          4           0.10        0.8      66.2     47.0\n",
      "342       11         100          2           0.01        0.7      48.5     49.0\n",
      "343       11         100          2           0.01        0.8      47.6     47.8\n",
      "344       11         100          2           0.05        0.7      54.9     49.6\n",
      "345       11         100          2           0.05        0.8      56.2     49.0\n",
      "346       11         100          2           0.10        0.7      59.6     47.0\n",
      "347       11         100          2           0.10        0.8      61.5     47.4\n",
      "348       11         100          3           0.01        0.7      52.4     49.6\n",
      "349       11         100          3           0.01        0.8      52.6     49.0\n",
      "350       11         100          3           0.05        0.7      61.5     48.4\n",
      "351       11         100          3           0.05        0.8      61.8     47.7\n",
      "352       11         100          3           0.10        0.7      67.2     45.0\n",
      "353       11         100          3           0.10        0.8      67.2     48.3\n",
      "354       11         100          4           0.01        0.7      58.4     49.0\n",
      "355       11         100          4           0.01        0.8      59.0     49.0\n",
      "356       11         100          4           0.05        0.7      66.3     46.1\n",
      "357       11         100          4           0.05        0.8      67.5     47.1\n",
      "358       11         100          4           0.10        0.7      75.4     49.6\n",
      "359       11         100          4           0.10        0.8      76.0     46.3\n",
      "360       10          50          2           0.01        0.7      45.1     47.7\n",
      "361       10          50          2           0.01        0.8      46.6     47.8\n",
      "362       10          50          2           0.05        0.7      49.9     49.8\n",
      "363       10          50          2           0.05        0.8      51.8     49.6\n",
      "364       10          50          2           0.10        0.7      55.2     50.3\n",
      "365       10          50          2           0.10        0.8      54.3     49.6\n",
      "366       10          50          3           0.01        0.7      50.8     48.3\n",
      "367       10          50          3           0.01        0.8      50.4     48.3\n",
      "368       10          50          3           0.05        0.7      56.2     47.7\n",
      "369       10          50          3           0.05        0.8      56.8     47.0\n",
      "370       10          50          3           0.10        0.7      60.6     47.1\n",
      "371       10          50          3           0.10        0.8      60.3     49.6\n",
      "372       10          50          4           0.01        0.7      53.9     48.3\n",
      "373       10          50          4           0.01        0.8      54.3     50.3\n",
      "374       10          50          4           0.05        0.7      61.2     48.3\n",
      "375       10          50          4           0.05        0.8      63.1     47.4\n",
      "376       10          50          4           0.10        0.7      64.3     46.3\n",
      "377       10          50          4           0.10        0.8      65.9     46.3\n",
      "378       10         100          2           0.01        0.7      47.3     48.3\n",
      "379       10         100          2           0.01        0.8      47.6     47.7\n",
      "380       10         100          2           0.05        0.7      54.6     51.0\n",
      "381       10         100          2           0.05        0.8      54.6     49.6\n",
      "382       10         100          2           0.10        0.7      59.0     47.0\n",
      "383       10         100          2           0.10        0.8      58.4     49.1\n",
      "384       10         100          3           0.01        0.7      52.3     50.3\n",
      "385       10         100          3           0.01        0.8      51.7     50.3\n",
      "386       10         100          3           0.05        0.7      60.3     47.1\n",
      "387       10         100          3           0.05        0.8      60.2     49.0\n",
      "388       10         100          3           0.10        0.7      66.2     45.4\n",
      "389       10         100          3           0.10        0.8      66.2     46.3\n",
      "390       10         100          4           0.01        0.7      56.2     49.6\n",
      "391       10         100          4           0.01        0.8      56.2     51.6\n",
      "392       10         100          4           0.05        0.7      66.5     47.7\n",
      "393       10         100          4           0.05        0.8      67.2     46.3\n",
      "394       10         100          4           0.10        0.7      74.7     45.8\n",
      "395       10         100          4           0.10        0.8      74.7     45.7\n",
      "396        9          50          2           0.01        0.7      47.9     51.6\n",
      "397        9          50          2           0.01        0.8      46.7     48.3\n",
      "398        9          50          2           0.05        0.7      51.7     48.3\n",
      "399        9          50          2           0.05        0.8      51.7     47.8\n",
      "400        9          50          2           0.10        0.7      53.6     47.0\n",
      "401        9          50          2           0.10        0.8      55.5     47.0\n",
      "402        9          50          3           0.01        0.7      52.6     49.0\n",
      "403        9          50          3           0.01        0.8      52.6     48.3\n",
      "404        9          50          3           0.05        0.7      56.4     47.7\n",
      "405        9          50          3           0.05        0.8      58.1     47.0\n",
      "406        9          50          3           0.10        0.7      61.2     45.7\n",
      "407        9          50          3           0.10        0.8      59.6     46.4\n",
      "408        9          50          4           0.01        0.7      55.8     49.6\n",
      "409        9          50          4           0.01        0.8      56.2     50.3\n",
      "410        9          50          4           0.05        0.7      59.9     47.0\n",
      "411        9          50          4           0.05        0.8      61.2     47.1\n",
      "412        9          50          4           0.10        0.7      65.0     49.6\n",
      "413        9          50          4           0.10        0.8      66.3     47.7\n",
      "414        9         100          2           0.01        0.7      48.6     49.6\n",
      "415        9         100          2           0.01        0.8      47.3     48.3\n",
      "416        9         100          2           0.05        0.7      53.9     48.3\n",
      "417        9         100          2           0.05        0.8      53.3     48.3\n",
      "418        9         100          2           0.10        0.7      59.9     47.8\n",
      "419        9         100          2           0.10        0.8      59.0     45.8\n",
      "420        9         100          3           0.01        0.7      53.6     49.6\n",
      "421        9         100          3           0.01        0.8      54.8     50.3\n",
      "422        9         100          3           0.05        0.7      60.2     48.1\n",
      "423        9         100          3           0.05        0.8      60.3     46.8\n",
      "424        9         100          3           0.10        0.7      66.5     48.3\n",
      "425        9         100          3           0.10        0.8      67.5     47.0\n",
      "426        9         100          4           0.01        0.7      57.1     50.3\n",
      "427        9         100          4           0.01        0.8      57.4     51.0\n",
      "428        9         100          4           0.05        0.7      65.0     47.1\n",
      "429        9         100          4           0.05        0.8      66.5     47.7\n",
      "430        9         100          4           0.10        0.7      75.1     46.8\n",
      "431        9         100          4           0.10        0.8      75.7     47.8\n",
      "432        8          50          2           0.01        0.7      48.6     48.3\n",
      "433        8          50          2           0.01        0.8      48.0     47.7\n",
      "434        8          50          2           0.05        0.7      52.0     49.6\n",
      "435        8          50          2           0.05        0.8      52.0     47.7\n",
      "436        8          50          2           0.10        0.7      54.9     49.6\n",
      "437        8          50          2           0.10        0.8      53.6     48.3\n",
      "438        8          50          3           0.01        0.7      51.1     51.0\n",
      "439        8          50          3           0.01        0.8      51.4     51.0\n",
      "440        8          50          3           0.05        0.7      55.2     47.7\n",
      "441        8          50          3           0.05        0.8      57.4     48.3\n",
      "442        8          50          3           0.10        0.7      59.6     47.7\n",
      "443        8          50          3           0.10        0.8      59.0     45.7\n",
      "444        8          50          4           0.01        0.7      55.2     49.0\n",
      "445        8          50          4           0.01        0.8      54.2     49.6\n",
      "446        8          50          4           0.05        0.7      60.3     48.8\n",
      "447        8          50          4           0.05        0.8      60.9     50.1\n",
      "448        8          50          4           0.10        0.7      64.0     45.0\n",
      "449        8          50          4           0.10        0.8      65.0     47.7\n",
      "450        8         100          2           0.01        0.7      48.6     49.6\n",
      "451        8         100          2           0.01        0.8      48.9     48.3\n",
      "452        8         100          2           0.05        0.7      55.5     49.4\n",
      "453        8         100          2           0.05        0.8      55.2     48.3\n",
      "454        8         100          2           0.10        0.7      58.1     46.8\n",
      "455        8         100          2           0.10        0.8      58.4     47.1\n",
      "456        8         100          3           0.01        0.7      53.3     51.0\n",
      "457        8         100          3           0.01        0.8      53.6     51.6\n",
      "458        8         100          3           0.05        0.7      59.3     47.8\n",
      "459        8         100          3           0.05        0.8      60.6     47.4\n",
      "460        8         100          3           0.10        0.7      66.2     47.7\n",
      "461        8         100          3           0.10        0.8      65.3     45.7\n",
      "462        8         100          4           0.01        0.7      56.5     49.6\n",
      "463        8         100          4           0.01        0.8      56.1     49.6\n",
      "464        8         100          4           0.05        0.7      64.4     47.4\n",
      "465        8         100          4           0.05        0.8      66.2     48.3\n",
      "466        8         100          4           0.10        0.7      74.7     46.1\n",
      "467        8         100          4           0.10        0.8      75.4     47.7\n",
      "468        7          50          2           0.01        0.7      45.7     49.0\n",
      "469        7          50          2           0.01        0.8      46.3     47.8\n",
      "470        7          50          2           0.05        0.7      49.8     48.3\n",
      "471        7          50          2           0.05        0.8      49.2     47.7\n",
      "472        7          50          2           0.10        0.7      52.0     48.3\n",
      "473        7          50          2           0.10        0.8      52.4     48.3\n",
      "474        7          50          3           0.01        0.7      49.8     49.0\n",
      "475        7          50          3           0.01        0.8      50.8     48.3\n",
      "476        7          50          3           0.05        0.7      54.5     47.8\n",
      "477        7          50          3           0.05        0.8      54.5     47.8\n",
      "478        7          50          3           0.10        0.7      58.6     47.8\n",
      "479        7          50          3           0.10        0.8      59.0     47.1\n",
      "480        7          50          4           0.01        0.7      52.7     49.0\n",
      "481        7          50          4           0.01        0.8      53.6     48.3\n",
      "482        7          50          4           0.05        0.7      58.7     46.3\n",
      "483        7          50          4           0.05        0.8      60.3     47.8\n",
      "484        7          50          4           0.10        0.7      64.6     46.1\n",
      "485        7          50          4           0.10        0.8      65.3     45.8\n",
      "486        7         100          2           0.01        0.7      47.9     49.0\n",
      "487        7         100          2           0.01        0.8      47.3     48.3\n",
      "488        7         100          2           0.05        0.7      53.0     49.6\n",
      "489        7         100          2           0.05        0.8      52.4     49.0\n",
      "490        7         100          2           0.10        0.7      56.5     47.7\n",
      "491        7         100          2           0.10        0.8      56.2     49.0\n",
      "492        7         100          3           0.01        0.7      51.7     49.6\n",
      "493        7         100          3           0.01        0.8      52.0     47.7\n",
      "494        7         100          3           0.05        0.7      58.0     48.4\n",
      "495        7         100          3           0.05        0.8      58.1     47.0\n",
      "496        7         100          3           0.10        0.7      65.6     47.7\n",
      "497        7         100          3           0.10        0.8      65.0     46.3\n",
      "498        7         100          4           0.01        0.7      55.8     49.0\n",
      "499        7         100          4           0.01        0.8      56.2     49.6\n",
      "500        7         100          4           0.05        0.7      63.4     47.0\n",
      "501        7         100          4           0.05        0.8      65.3     47.8\n",
      "502        7         100          4           0.10        0.7      72.9     46.1\n",
      "503        7         100          4           0.10        0.8      74.7     46.1\n",
      "504        6          50          2           0.01        0.7      46.6     49.0\n",
      "505        6          50          2           0.01        0.8      46.6     48.3\n",
      "506        6          50          2           0.05        0.7      50.8     48.3\n",
      "507        6          50          2           0.05        0.8      50.2     49.0\n",
      "508        6          50          2           0.10        0.7      52.7     49.0\n",
      "509        6          50          2           0.10        0.8      53.3     48.3\n",
      "510        6          50          3           0.01        0.7      49.2     49.6\n",
      "511        6          50          3           0.01        0.8      50.8     49.6\n",
      "512        6          50          3           0.05        0.7      54.3     49.6\n",
      "513        6          50          3           0.05        0.8      55.5     48.8\n",
      "514        6          50          3           0.10        0.7      57.7     47.7\n",
      "515        6          50          3           0.10        0.8      56.8     45.8\n",
      "516        6          50          4           0.01        0.7      54.3     49.6\n",
      "517        6          50          4           0.01        0.8      53.0     47.7\n",
      "518        6          50          4           0.05        0.7      59.6     48.4\n",
      "519        6          50          4           0.05        0.8      59.6     47.8\n",
      "520        6          50          4           0.10        0.7      63.1     47.4\n",
      "521        6          50          4           0.10        0.8      65.3     46.4\n",
      "522        6         100          2           0.01        0.7      47.6     48.3\n",
      "523        6         100          2           0.01        0.8      48.3     49.1\n",
      "524        6         100          2           0.05        0.7      53.0     49.0\n",
      "525        6         100          2           0.05        0.8      53.0     48.3\n",
      "526        6         100          2           0.10        0.7      56.8     46.3\n",
      "527        6         100          2           0.10        0.8      57.1     46.4\n",
      "528        6         100          3           0.01        0.7      51.1     50.3\n",
      "529        6         100          3           0.01        0.8      51.1     49.0\n",
      "530        6         100          3           0.05        0.7      59.3     49.0\n",
      "531        6         100          3           0.05        0.8      58.7     47.8\n",
      "532        6         100          3           0.10        0.7      64.3     47.7\n",
      "533        6         100          3           0.10        0.8      62.5     47.7\n",
      "534        6         100          4           0.01        0.7      55.5     50.3\n",
      "535        6         100          4           0.01        0.8      57.1     51.0\n",
      "536        6         100          4           0.05        0.7      64.3     47.7\n",
      "537        6         100          4           0.05        0.8      64.6     49.0\n",
      "538        6         100          4           0.10        0.7      73.5     49.0\n",
      "539        6         100          4           0.10        0.8      74.4     47.1\n"
     ]
    }
   ],
   "source": [
    "print(results.to_string())"
   ]
  },
  {
   "cell_type": "markdown",
   "metadata": {},
   "source": [
    "### As the number of variables decrease, the model tends to overfit on Train sample. The KS for train sample increases a lot, whereas the KS for Test samples fall a lot"
   ]
  },
  {
   "cell_type": "markdown",
   "metadata": {},
   "source": [
    "### 8 variable model, with 100 trees, depth of  3, subsample rate of 0.7, and learning rate of 0.05, has a KS of 52.4% for Train sample and   44.6 % for Test sample"
   ]
  },
  {
   "cell_type": "markdown",
   "metadata": {},
   "source": [
    "          "
   ]
  },
  {
   "cell_type": "markdown",
   "metadata": {},
   "source": [
    "           "
   ]
  },
  {
   "cell_type": "markdown",
   "metadata": {},
   "source": [
    "        "
   ]
  },
  {
   "cell_type": "markdown",
   "metadata": {},
   "source": [
    "### Evaluate the performance of 8 variable GBM Model"
   ]
  },
  {
   "cell_type": "code",
   "execution_count": 21,
   "metadata": {},
   "outputs": [],
   "source": [
    "selected_vars = pd.read_csv(\"GBM_8.csv\")\n",
    "selected_vars = list(selected_vars[\"0\"])"
   ]
  },
  {
   "cell_type": "code",
   "execution_count": 22,
   "metadata": {},
   "outputs": [
    {
     "data": {
      "text/plain": [
       "GradientBoostingClassifier(ccp_alpha=0.0, criterion='friedman_mse', init=None,\n",
       "                           learning_rate=0.05, loss='deviance', max_depth=3,\n",
       "                           max_features='sqrt', max_leaf_nodes=None,\n",
       "                           min_impurity_decrease=0.0, min_impurity_split=None,\n",
       "                           min_samples_leaf=1, min_samples_split=0.05,\n",
       "                           min_weight_fraction_leaf=0.0, n_estimators=100,\n",
       "                           n_iter_no_change=None, presort='deprecated',\n",
       "                           random_state=12345, subsample=0.7, tol=0.0001,\n",
       "                           validation_fraction=0.1, verbose=0,\n",
       "                           warm_start=False)"
      ]
     },
     "execution_count": 22,
     "metadata": {},
     "output_type": "execute_result"
    }
   ],
   "source": [
    "X = X_train[selected_vars]\n",
    "y = y_train.ravel()\n",
    "clf = GradientBoostingClassifier(loss='deviance', learning_rate=0.05, n_estimators=100, subsample=0.7, \n",
    "                                     criterion='friedman_mse', min_samples_split=0.05, max_depth=3, random_state=12345,\n",
    "                                     max_features=\"sqrt\")\n",
    "clf.fit(X,y)"
   ]
  },
  {
   "cell_type": "markdown",
   "metadata": {},
   "source": [
    "       "
   ]
  },
  {
   "cell_type": "markdown",
   "metadata": {},
   "source": [
    "       "
   ]
  },
  {
   "cell_type": "markdown",
   "metadata": {},
   "source": [
    "### Performance of Train Sample"
   ]
  },
  {
   "cell_type": "code",
   "execution_count": 23,
   "metadata": {},
   "outputs": [],
   "source": [
    "os.chdir(\"..\")\n",
    "os.chdir(\"..//Images\")"
   ]
  },
  {
   "cell_type": "code",
   "execution_count": 24,
   "metadata": {},
   "outputs": [],
   "source": [
    "y_hat = clf.predict_proba(X_train[selected_vars])\n",
    "results_train = pd.DataFrame()\n",
    "results_train[\"Prob\"] = (y_hat[: ][: , 1])\n",
    "results_train[\"y\"] = y_train.ravel()"
   ]
  },
  {
   "cell_type": "code",
   "execution_count": 25,
   "metadata": {},
   "outputs": [
    {
     "name": "stdout",
     "output_type": "stream",
     "text": [
      "The KS for the model is: 59.3 %\n"
     ]
    }
   ],
   "source": [
    "KS_Train = KS_Table(results_train)\n",
    "print(\"The KS for the model is:\", round(KS_Train[\"KS\"].max(),2),\"%\")"
   ]
  },
  {
   "cell_type": "code",
   "execution_count": 26,
   "metadata": {},
   "outputs": [
    {
     "data": {
      "image/png": "[encoded data removed]",
      "text/plain": [
       "<Figure size 720x504 with 1 Axes>"
      ]
     },
     "metadata": {
      "needs_background": "light"
     },
     "output_type": "display_data"
    }
   ],
   "source": [
    "import matplotlib.pyplot as plt\n",
    "deciles = np.arange(1,11,1)\n",
    "plt.figure(figsize=(10,7))\n",
    "plt.plot(deciles, KS_Train[\"PredRR\"],'-r',label=\"Predicted Response Rate\")\n",
    "plt.plot(deciles, KS_Train[\"ObsRR\"],'-b', label=\"Observed Response Rate\")\n",
    "plt.xlabel(\"Deciles\", fontsize=14)\n",
    "plt.ylabel(\"Response Rate (0-1)\", fontsize=14)\n",
    "plt.title(\"Actual Vs Predicted for Train data\", fontsize=18)\n",
    "plt.legend(fontsize=10)\n",
    "plt.savefig('GBM_Act_vs_Pred_train.png')\n",
    "plt.show()"
   ]
  },
  {
   "cell_type": "code",
   "execution_count": 27,
   "metadata": {},
   "outputs": [
    {
     "data": {
      "image/png": "[encoded data removed]",
      "text/plain": [
       "<Figure size 720x504 with 1 Axes>"
      ]
     },
     "metadata": {
      "needs_background": "light"
     },
     "output_type": "display_data"
    }
   ],
   "source": [
    "deciles = np.arange(1,11,1)\n",
    "rand = deciles/10\n",
    "plt.figure(figsize=(10,7))\n",
    "plt.plot(deciles, KS_Train[\"Cum_Perct_Goods\"],'-r',label=\"Cumulative Goods\")\n",
    "plt.plot(deciles, rand,'-b', label=\"Random Model Goods\")\n",
    "plt.xlabel(\"Deciles\", fontsize=14)\n",
    "plt.ylabel(\"Percent Goods\", fontsize=14)\n",
    "plt.title(\"Lift Chart for Train\", fontsize=18)\n",
    "plt.legend(fontsize=10)\n",
    "plt.savefig(\"GBM_LiftChart_trainsample.png\")\n",
    "plt.show()"
   ]
  },
  {
   "cell_type": "code",
   "execution_count": 28,
   "metadata": {},
   "outputs": [
    {
     "name": "stdout",
     "output_type": "stream",
     "text": [
      "Accuracy for training dataset is: 0.84\n"
     ]
    }
   ],
   "source": [
    "# Accuracy for training dataset\n",
    "print (\"Accuracy for training dataset is:\", round(clf.score(X_train[selected_vars], y_train),2))"
   ]
  },
  {
   "cell_type": "markdown",
   "metadata": {},
   "source": [
    "           "
   ]
  },
  {
   "cell_type": "markdown",
   "metadata": {},
   "source": [
    "             "
   ]
  },
  {
   "cell_type": "markdown",
   "metadata": {},
   "source": [
    "            "
   ]
  },
  {
   "cell_type": "markdown",
   "metadata": {},
   "source": [
    "### Performance of Test Sample"
   ]
  },
  {
   "cell_type": "code",
   "execution_count": 29,
   "metadata": {},
   "outputs": [],
   "source": [
    "y_hat = clf.predict_proba(X_test[selected_vars])\n",
    "results_test = pd.DataFrame()\n",
    "results_test[\"Prob\"] = (y_hat[: ][: , 1])\n",
    "results_test[\"y\"] = y_test.ravel()"
   ]
  },
  {
   "cell_type": "code",
   "execution_count": 30,
   "metadata": {},
   "outputs": [
    {
     "name": "stdout",
     "output_type": "stream",
     "text": [
      "The KS for the model is: 47.8 %\n"
     ]
    }
   ],
   "source": [
    "KS_Test = KS_Table(results_test)\n",
    "print(\"The KS for the model is:\", round(KS_Test[\"KS\"].max(),2),\"%\")"
   ]
  },
  {
   "cell_type": "code",
   "execution_count": 31,
   "metadata": {},
   "outputs": [
    {
     "data": {
      "image/png": "[encoded data removed]",
      "text/plain": [
       "<Figure size 720x504 with 1 Axes>"
      ]
     },
     "metadata": {
      "needs_background": "light"
     },
     "output_type": "display_data"
    }
   ],
   "source": [
    "import matplotlib.pyplot as plt\n",
    "deciles = np.arange(1,11,1)\n",
    "plt.figure(figsize=(10,7))\n",
    "plt.plot(deciles, KS_Test[\"PredRR\"],'-r',label=\"Predicted Response Rate\")\n",
    "plt.plot(deciles, KS_Test[\"ObsRR\"],'-b', label=\"Observed Response Rate\")\n",
    "plt.xlabel(\"Deciles\", fontsize=14)\n",
    "plt.ylabel(\"Response Rate (0-1)\", fontsize=14)\n",
    "plt.title(\"Actual Vs Predicted for Test data\", fontsize=18)\n",
    "plt.legend(fontsize=10)\n",
    "plt.savefig(\"GBM_Act_vs_Pred_test.png\")\n",
    "plt.show()"
   ]
  },
  {
   "cell_type": "code",
   "execution_count": 32,
   "metadata": {},
   "outputs": [
    {
     "data": {
      "image/png": "[encoded data removed]",
      "text/plain": [
       "<Figure size 720x504 with 1 Axes>"
      ]
     },
     "metadata": {
      "needs_background": "light"
     },
     "output_type": "display_data"
    }
   ],
   "source": [
    "deciles = np.arange(1,11,1)\n",
    "rand = deciles/10\n",
    "plt.figure(figsize=(10,7))\n",
    "plt.plot(deciles, KS_Test[\"Cum_Perct_Goods\"],'-r',label=\"Cumulative Goods\")\n",
    "plt.plot(deciles, rand,'-b', label=\"Random Model Goods\")\n",
    "plt.xlabel(\"Deciles\", fontsize=14)\n",
    "plt.ylabel(\"Percent Goods\", fontsize=14)\n",
    "plt.title(\"Lift Chart for Test\", fontsize=18)\n",
    "plt.legend(fontsize=10)\n",
    "plt.savefig('GBM_LiftChart_testsample.png')\n",
    "plt.show()"
   ]
  },
  {
   "cell_type": "code",
   "execution_count": 33,
   "metadata": {},
   "outputs": [
    {
     "name": "stdout",
     "output_type": "stream",
     "text": [
      "Accuracy for Test dataset is: 0.83\n"
     ]
    }
   ],
   "source": [
    "# Accuracy for test dataset\n",
    "print (\"Accuracy for Test dataset is:\", round(clf.score(X_test[selected_vars], y_test),2))"
   ]
  },
  {
   "cell_type": "markdown",
   "metadata": {},
   "source": [
    "  "
   ]
  },
  {
   "cell_type": "markdown",
   "metadata": {},
   "source": [
    "     "
   ]
  },
  {
   "cell_type": "markdown",
   "metadata": {},
   "source": [
    "    "
   ]
  }
 ],
 "metadata": {
  "kernelspec": {
   "display_name": "Python 3",
   "language": "python",
   "name": "python3"
  },
  "language_info": {
   "codemirror_mode": {
    "name": "ipython",
    "version": 3
   },
   "file_extension": ".py",
   "mimetype": "text/x-python",
   "name": "python",
   "nbconvert_exporter": "python",
   "pygments_lexer": "ipython3",
   "version": "3.7.6"
  }
 },
 "nbformat": 4,
 "nbformat_minor": 2
}
