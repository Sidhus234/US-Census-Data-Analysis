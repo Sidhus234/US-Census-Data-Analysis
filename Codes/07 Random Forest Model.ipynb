{
 "cells": [
  {
   "cell_type": "markdown",
   "metadata": {},
   "source": [
    "# Random Forest Classifier"
   ]
  },
  {
   "cell_type": "markdown",
   "metadata": {},
   "source": [
    "###### https://en.wikipedia.org/wiki/Random_forest\n",
    "###### Please refer the above link for details on Random Forest Classifier"
   ]
  },
  {
   "cell_type": "code",
   "execution_count": 1,
   "metadata": {},
   "outputs": [],
   "source": [
    "# Import required libraries\n",
    "import pandas as pd\n",
    "import numpy as np\n",
    "import os as os\n",
    "from sklearn.ensemble import RandomForestClassifier\n",
    "from sklearn.model_selection import train_test_split\n",
    "from sklearn.preprocessing import StandardScaler\n",
    "from sklearn.decomposition import PCA"
   ]
  },
  {
   "cell_type": "code",
   "execution_count": 2,
   "metadata": {},
   "outputs": [],
   "source": [
    "# Set working dierctory\n",
    "os.chdir(\"..\")\n",
    "cwd = os.getcwd()\n",
    "os.chdir(f'{cwd}\\\\Data\\\\Model data\\\\')"
   ]
  },
  {
   "cell_type": "code",
   "execution_count": 3,
   "metadata": {},
   "outputs": [],
   "source": [
    "# Read the dataset\n",
    "data = pd.read_csv(\"Final_model_dataset.csv\")"
   ]
  },
  {
   "cell_type": "code",
   "execution_count": 4,
   "metadata": {},
   "outputs": [],
   "source": [
    "# Set the FIPS variable as index\n",
    "data = data.set_index(\"FIPS\")"
   ]
  },
  {
   "cell_type": "markdown",
   "metadata": {},
   "source": [
    "         "
   ]
  },
  {
   "cell_type": "markdown",
   "metadata": {},
   "source": [
    "        "
   ]
  },
  {
   "cell_type": "markdown",
   "metadata": {},
   "source": [
    "## Required functions for this model"
   ]
  },
  {
   "cell_type": "code",
   "execution_count": 5,
   "metadata": {},
   "outputs": [],
   "source": [
    "# Initial Variable reduction using GBM variable importance\n",
    "def Variable_Reduction(X_train, independent_vars, y_train):\n",
    "    X = X_train[independent_vars]\n",
    "    y = y_train\n",
    "    clf = RandomForestClassifier(n_estimators=500, criterion='gini', max_depth=4, min_samples_split=0.05, \n",
    "                                 max_features='sqrt', n_jobs=-1, random_state=12345)\n",
    "    clf.fit(X,y)\n",
    "    VarSel = pd.DataFrame(independent_vars)\n",
    "    VarSel.columns = [\"Variables\"]\n",
    "    VarSel[\"Importance\"] = (clf.feature_importances_)\n",
    "    return VarSel"
   ]
  },
  {
   "cell_type": "code",
   "execution_count": 6,
   "metadata": {},
   "outputs": [],
   "source": [
    "def Drop_one_var(X_train, independent_vars, y_train):\n",
    "    VarSel = Variable_Reduction(X_train, independent_vars, y_train)\n",
    "    VarSel = VarSel.sort_values([\"Importance\"], ascending=False)\n",
    "    min_imp = VarSel[\"Importance\"].min()\n",
    "    VarSel = VarSel[VarSel[\"Importance\"]> min_imp]\n",
    "    return list(VarSel[\"Variables\"])"
   ]
  },
  {
   "cell_type": "code",
   "execution_count": 7,
   "metadata": {},
   "outputs": [],
   "source": [
    "def KS_Table(dataset):\n",
    "    tmp_df = dataset.copy()\n",
    "    tmp_df['bin'] = pd.qcut(tmp_df[\"Prob\"], q=10, duplicates='drop')\n",
    "    tmp1 = (tmp_df.groupby(\"bin\").count()).drop(\"Prob\",axis=1)\n",
    "    tmp2 = (tmp_df.groupby(\"bin\").sum()).drop(\"Prob\",axis=1)\n",
    "    tmp3 = (tmp_df.groupby(\"bin\").mean()).drop(\"y\",axis=1)\n",
    "    tmp1.columns = [\"Total\"]\n",
    "    tmp2.columns = [\"Goods\"]\n",
    "    tmp3.columns = [\"PredRR\"]\n",
    "    tmp = tmp1.merge(tmp2, how=\"outer\", left_index=True, right_index=True)\n",
    "    tmp = tmp.merge(tmp3, how=\"outer\", left_index=True, right_index=True)\n",
    "    tmp = tmp.sort_values(\"PredRR\", ascending=False)\n",
    "    tmp[\"ObsRR\"] = tmp[\"Goods\"]/tmp[\"Total\"]\n",
    "    tmp[\"Bads\"] = tmp[\"Total\"] - tmp[\"Goods\"]\n",
    "    tmp[\"Perct_Goods\"] = tmp[\"Goods\"]/tmp[\"Goods\"].sum()\n",
    "    tmp[\"Perct_Bads\"] = tmp[\"Bads\"]/tmp[\"Bads\"].sum()\n",
    "    tmp[\"Cum_Perct_Goods\"] = tmp[\"Perct_Goods\"].cumsum()\n",
    "    tmp[\"Cum_Perct_Bads\"] = tmp[\"Perct_Bads\"].cumsum()\n",
    "    tmp[\"KS\"] = np.round(tmp[\"Cum_Perct_Goods\"] - tmp[\"Cum_Perct_Bads\"],3)*100\n",
    "    return tmp"
   ]
  },
  {
   "cell_type": "code",
   "execution_count": 8,
   "metadata": {},
   "outputs": [],
   "source": [
    "def Iter_RF_HyperParam(X_train, y_train, X_test, y_test, independent_vars, NTrees, Depth):\n",
    "    X1 = X_train[independent_vars]\n",
    "    y = y_train.ravel()\n",
    "    clf = RandomForestClassifier(n_estimators=NTrees, criterion='gini', max_depth=Depth, min_samples_split=0.05,\n",
    "                                 max_features='sqrt', n_jobs=-1, random_state=12345)\n",
    "    clf.fit(X1,y)\n",
    "    # Performance on train sample\n",
    "    y_hat = clf.predict_proba(X1)\n",
    "    results_train = pd.DataFrame()\n",
    "    results_train[\"Prob\"] = (y_hat[: ][: , 1])\n",
    "    results_train[\"y\"] = y_train.ravel()\n",
    "    KS_Train_met = KS_Table(results_train)[\"KS\"].max()\n",
    "    \n",
    "    #Performance on test sample\n",
    "    X2 = X_test[independent_vars]\n",
    "    y_hat = clf.predict_proba(X2)\n",
    "    results_test = pd.DataFrame()\n",
    "    results_test[\"Prob\"] = (y_hat[: ][: , 1])\n",
    "    results_test[\"y\"] = y_test.ravel()\n",
    "    KS_Test_met = KS_Table(results_test)[\"KS\"].max()\n",
    "    \n",
    "    return KS_Train_met, KS_Test_met"
   ]
  },
  {
   "cell_type": "markdown",
   "metadata": {},
   "source": [
    "           "
   ]
  },
  {
   "cell_type": "markdown",
   "metadata": {},
   "source": [
    "### As the initial set of variables is really high (10,000+), we shall pick only the top variables based on Information value (IV).\n",
    "### IV was calculated in Logistic Regression model, and hence shall read the same csv file to save resources"
   ]
  },
  {
   "cell_type": "code",
   "execution_count": 9,
   "metadata": {},
   "outputs": [],
   "source": [
    "# Read IV file\n",
    "IV_table = pd.read_csv(\"Information_Value.csv\")"
   ]
  },
  {
   "cell_type": "code",
   "execution_count": 10,
   "metadata": {},
   "outputs": [],
   "source": [
    "# Put a cut-off of IV>0.10\n",
    "IV_table = IV_table[IV_table[\"IV\"]>0.10]"
   ]
  },
  {
   "cell_type": "code",
   "execution_count": 11,
   "metadata": {},
   "outputs": [],
   "source": [
    "Initial_Variables = list(IV_table[\"Variables\"])\n",
    "Initial_Variables.remove(\"Mortality_change_2012_2014\")"
   ]
  },
  {
   "cell_type": "markdown",
   "metadata": {},
   "source": [
    "         "
   ]
  },
  {
   "cell_type": "markdown",
   "metadata": {},
   "source": [
    "### Feature scaling and PCA to reduce feature set"
   ]
  },
  {
   "cell_type": "code",
   "execution_count": 12,
   "metadata": {},
   "outputs": [],
   "source": [
    "# Standardizing the features\n",
    "X = data[Initial_Variables]\n",
    "StdSclr = StandardScaler().fit(X)\n",
    "X1 = StdSclr.transform(X)"
   ]
  },
  {
   "cell_type": "code",
   "execution_count": 13,
   "metadata": {},
   "outputs": [],
   "source": [
    "# PCA transformation\n",
    "pca = PCA(n_components=20)\n",
    "pcafit = pca.fit(X1)\n",
    "pricipalComponents = pcafit.transform(X1)"
   ]
  },
  {
   "cell_type": "code",
   "execution_count": 14,
   "metadata": {},
   "outputs": [
    {
     "data": {
      "text/html": [
       "<div>\n",
       "<style scoped>\n",
       "    .dataframe tbody tr th:only-of-type {\n",
       "        vertical-align: middle;\n",
       "    }\n",
       "\n",
       "    .dataframe tbody tr th {\n",
       "        vertical-align: top;\n",
       "    }\n",
       "\n",
       "    .dataframe thead th {\n",
       "        text-align: right;\n",
       "    }\n",
       "</style>\n",
       "<table border=\"1\" class=\"dataframe\">\n",
       "  <thead>\n",
       "    <tr style=\"text-align: right;\">\n",
       "      <th></th>\n",
       "      <th>PCA_0</th>\n",
       "      <th>PCA_1</th>\n",
       "      <th>PCA_2</th>\n",
       "      <th>PCA_3</th>\n",
       "      <th>PCA_4</th>\n",
       "      <th>PCA_5</th>\n",
       "      <th>PCA_6</th>\n",
       "      <th>PCA_7</th>\n",
       "      <th>PCA_8</th>\n",
       "      <th>PCA_9</th>\n",
       "      <th>PCA_10</th>\n",
       "      <th>PCA_11</th>\n",
       "      <th>PCA_12</th>\n",
       "      <th>PCA_13</th>\n",
       "      <th>PCA_14</th>\n",
       "      <th>PCA_15</th>\n",
       "      <th>PCA_16</th>\n",
       "      <th>PCA_17</th>\n",
       "      <th>PCA_18</th>\n",
       "      <th>PCA_19</th>\n",
       "    </tr>\n",
       "  </thead>\n",
       "  <tbody>\n",
       "    <tr>\n",
       "      <th>0</th>\n",
       "      <td>30.800210</td>\n",
       "      <td>-0.080506</td>\n",
       "      <td>-19.539556</td>\n",
       "      <td>-0.521350</td>\n",
       "      <td>-4.892962</td>\n",
       "      <td>10.687493</td>\n",
       "      <td>-4.427965</td>\n",
       "      <td>-0.226236</td>\n",
       "      <td>1.437680</td>\n",
       "      <td>1.142740</td>\n",
       "      <td>1.398549</td>\n",
       "      <td>-3.349617</td>\n",
       "      <td>-1.352431</td>\n",
       "      <td>-2.151252</td>\n",
       "      <td>0.662332</td>\n",
       "      <td>3.573884</td>\n",
       "      <td>-4.405661</td>\n",
       "      <td>5.235859</td>\n",
       "      <td>4.496214</td>\n",
       "      <td>0.433358</td>\n",
       "    </tr>\n",
       "    <tr>\n",
       "      <th>1</th>\n",
       "      <td>12.740122</td>\n",
       "      <td>10.938975</td>\n",
       "      <td>3.637980</td>\n",
       "      <td>-4.474000</td>\n",
       "      <td>-0.578941</td>\n",
       "      <td>-0.353140</td>\n",
       "      <td>-5.299740</td>\n",
       "      <td>-2.149521</td>\n",
       "      <td>4.546508</td>\n",
       "      <td>1.168549</td>\n",
       "      <td>0.804263</td>\n",
       "      <td>-10.136153</td>\n",
       "      <td>1.518292</td>\n",
       "      <td>3.725788</td>\n",
       "      <td>-6.935428</td>\n",
       "      <td>2.905513</td>\n",
       "      <td>-2.771512</td>\n",
       "      <td>3.486802</td>\n",
       "      <td>3.791474</td>\n",
       "      <td>-1.187395</td>\n",
       "    </tr>\n",
       "    <tr>\n",
       "      <th>2</th>\n",
       "      <td>39.124687</td>\n",
       "      <td>-4.440052</td>\n",
       "      <td>-0.806659</td>\n",
       "      <td>14.784193</td>\n",
       "      <td>-9.635509</td>\n",
       "      <td>-3.036066</td>\n",
       "      <td>-4.898818</td>\n",
       "      <td>2.744003</td>\n",
       "      <td>-2.873642</td>\n",
       "      <td>-0.837795</td>\n",
       "      <td>-7.232772</td>\n",
       "      <td>-2.673453</td>\n",
       "      <td>-5.154757</td>\n",
       "      <td>1.509020</td>\n",
       "      <td>-6.775999</td>\n",
       "      <td>0.517019</td>\n",
       "      <td>-8.748939</td>\n",
       "      <td>0.931348</td>\n",
       "      <td>2.852725</td>\n",
       "      <td>6.831228</td>\n",
       "    </tr>\n",
       "    <tr>\n",
       "      <th>3</th>\n",
       "      <td>41.827004</td>\n",
       "      <td>-5.801363</td>\n",
       "      <td>-14.667366</td>\n",
       "      <td>9.847788</td>\n",
       "      <td>-7.560088</td>\n",
       "      <td>11.980695</td>\n",
       "      <td>-2.048175</td>\n",
       "      <td>-4.252003</td>\n",
       "      <td>-5.715849</td>\n",
       "      <td>-5.598671</td>\n",
       "      <td>-8.055203</td>\n",
       "      <td>1.673604</td>\n",
       "      <td>-0.945584</td>\n",
       "      <td>-2.294616</td>\n",
       "      <td>-4.465602</td>\n",
       "      <td>1.329520</td>\n",
       "      <td>-7.932116</td>\n",
       "      <td>3.101844</td>\n",
       "      <td>0.190426</td>\n",
       "      <td>2.354610</td>\n",
       "    </tr>\n",
       "    <tr>\n",
       "      <th>4</th>\n",
       "      <td>24.219103</td>\n",
       "      <td>-3.018081</td>\n",
       "      <td>-9.340286</td>\n",
       "      <td>-2.979836</td>\n",
       "      <td>-3.470174</td>\n",
       "      <td>8.440551</td>\n",
       "      <td>-2.191821</td>\n",
       "      <td>-7.379515</td>\n",
       "      <td>4.609515</td>\n",
       "      <td>-6.045886</td>\n",
       "      <td>-0.509902</td>\n",
       "      <td>2.351587</td>\n",
       "      <td>5.192258</td>\n",
       "      <td>-1.261657</td>\n",
       "      <td>3.257621</td>\n",
       "      <td>-1.167605</td>\n",
       "      <td>-3.120315</td>\n",
       "      <td>1.743900</td>\n",
       "      <td>0.850182</td>\n",
       "      <td>1.446764</td>\n",
       "    </tr>\n",
       "  </tbody>\n",
       "</table>\n",
       "</div>"
      ],
      "text/plain": [
       "       PCA_0      PCA_1      PCA_2      PCA_3     PCA_4      PCA_5     PCA_6  \\\n",
       "0  30.800210  -0.080506 -19.539556  -0.521350 -4.892962  10.687493 -4.427965   \n",
       "1  12.740122  10.938975   3.637980  -4.474000 -0.578941  -0.353140 -5.299740   \n",
       "2  39.124687  -4.440052  -0.806659  14.784193 -9.635509  -3.036066 -4.898818   \n",
       "3  41.827004  -5.801363 -14.667366   9.847788 -7.560088  11.980695 -2.048175   \n",
       "4  24.219103  -3.018081  -9.340286  -2.979836 -3.470174   8.440551 -2.191821   \n",
       "\n",
       "      PCA_7     PCA_8     PCA_9    PCA_10     PCA_11    PCA_12    PCA_13  \\\n",
       "0 -0.226236  1.437680  1.142740  1.398549  -3.349617 -1.352431 -2.151252   \n",
       "1 -2.149521  4.546508  1.168549  0.804263 -10.136153  1.518292  3.725788   \n",
       "2  2.744003 -2.873642 -0.837795 -7.232772  -2.673453 -5.154757  1.509020   \n",
       "3 -4.252003 -5.715849 -5.598671 -8.055203   1.673604 -0.945584 -2.294616   \n",
       "4 -7.379515  4.609515 -6.045886 -0.509902   2.351587  5.192258 -1.261657   \n",
       "\n",
       "     PCA_14    PCA_15    PCA_16    PCA_17    PCA_18    PCA_19  \n",
       "0  0.662332  3.573884 -4.405661  5.235859  4.496214  0.433358  \n",
       "1 -6.935428  2.905513 -2.771512  3.486802  3.791474 -1.187395  \n",
       "2 -6.775999  0.517019 -8.748939  0.931348  2.852725  6.831228  \n",
       "3 -4.465602  1.329520 -7.932116  3.101844  0.190426  2.354610  \n",
       "4  3.257621 -1.167605 -3.120315  1.743900  0.850182  1.446764  "
      ]
     },
     "execution_count": 14,
     "metadata": {},
     "output_type": "execute_result"
    }
   ],
   "source": [
    "# Convert the Principal Components into a pandas dataframe\n",
    "arr = list(np.arange(0,20,1))\n",
    "colnames = [(\"PCA_\"+str(ar)) for ar in arr]\n",
    "principalDf = pd.DataFrame(data = pricipalComponents, columns = colnames)\n",
    "principalDf.head()"
   ]
  },
  {
   "cell_type": "markdown",
   "metadata": {},
   "source": [
    "                 "
   ]
  },
  {
   "cell_type": "markdown",
   "metadata": {},
   "source": [
    "               "
   ]
  },
  {
   "cell_type": "markdown",
   "metadata": {},
   "source": [
    "## Selecting the model"
   ]
  },
  {
   "cell_type": "code",
   "execution_count": 15,
   "metadata": {},
   "outputs": [],
   "source": [
    "# Split the data in train and test\n",
    "X_train, X_test, y_train, y_test = train_test_split(principalDf, data[\"Target\"], test_size=0.33, random_state=12345)"
   ]
  },
  {
   "cell_type": "code",
   "execution_count": 16,
   "metadata": {},
   "outputs": [],
   "source": [
    "initial_vars = list(principalDf.columns)"
   ]
  },
  {
   "cell_type": "code",
   "execution_count": 17,
   "metadata": {},
   "outputs": [],
   "source": [
    "NTrees = [50, 100]\n",
    "Depth = [2,3,4]\n",
    "expected_length = (len(NTrees)*len(Depth)*len(initial_vars))\n",
    "KS_Train = [None]*expected_length\n",
    "KS_Test = [None]*expected_length\n",
    "NTrees_met = [None]*expected_length\n",
    "Depth_met = [None]*expected_length\n",
    "No_Vars = [None]*expected_length"
   ]
  },
  {
   "cell_type": "code",
   "execution_count": 18,
   "metadata": {},
   "outputs": [],
   "source": [
    "ite = 0\n",
    "while(len(initial_vars)>5):\n",
    "    for i in range(0, len(NTrees)):\n",
    "        for j in range(0, len(Depth)):\n",
    "            NTrees_met[ite] = NTrees[i]\n",
    "            Depth_met[ite] = Depth[j]\n",
    "            No_Vars[ite] = len(initial_vars)\n",
    "            KS_Train[ite], KS_Test[ite] = Iter_RF_HyperParam(X_train,y_train, X_test, y_test, initial_vars, \n",
    "                                                             NTrees[i], Depth[j])\n",
    "            ite += 1\n",
    "    initial_vars = Drop_one_var(X_train, initial_vars, y_train)\n",
    "    pd.DataFrame(initial_vars).to_csv(\"RF_\"+str(len(initial_vars))+\".csv\")"
   ]
  },
  {
   "cell_type": "code",
   "execution_count": 19,
   "metadata": {},
   "outputs": [],
   "source": [
    "results = pd.DataFrame()\n",
    "results[\"No_Vars\"] = No_Vars[0:ite]\n",
    "results[\"NTrees_met\"] = NTrees_met[0:ite]\n",
    "results[\"Depth_met\"] = Depth_met[0:ite]\n",
    "results[\"KS_Train\"] = KS_Train[0:ite]\n",
    "results[\"KS_Test\"] = KS_Test[0:ite]"
   ]
  },
  {
   "cell_type": "code",
   "execution_count": 20,
   "metadata": {},
   "outputs": [
    {
     "name": "stdout",
     "output_type": "stream",
     "text": [
      "    No_Vars  NTrees_met  Depth_met  KS_Train  KS_Test\n",
      "0        20          50          2      47.9     47.7\n",
      "1        20          50          3      49.5     49.0\n",
      "2        20          50          4      54.8     46.3\n",
      "3        20         100          2      45.7     47.8\n",
      "4        20         100          3      50.2     51.0\n",
      "5        20         100          4      52.7     50.3\n",
      "6        19          50          2      45.4     45.0\n",
      "7        19          50          3      50.8     49.0\n",
      "8        19          50          4      53.6     49.6\n",
      "9        19         100          2      46.0     47.0\n",
      "10       19         100          3      50.5     49.6\n",
      "11       19         100          4      55.5     51.0\n",
      "12       18          50          2      46.7     49.0\n",
      "13       18          50          3      49.2     48.3\n",
      "14       18          50          4      53.6     48.3\n",
      "15       18         100          2      46.3     49.0\n",
      "16       18         100          3      49.2     48.3\n",
      "17       18         100          4      53.9     49.0\n",
      "18       17          50          2      46.3     47.0\n",
      "19       17          50          3      49.2     48.3\n",
      "20       17          50          4      54.5     50.3\n",
      "21       17         100          2      45.4     46.3\n",
      "22       17         100          3      48.6     48.4\n",
      "23       17         100          4      53.3     49.6\n",
      "24       16          50          2      45.4     47.7\n",
      "25       16          50          3      47.9     49.8\n",
      "26       16          50          4      51.7     49.0\n",
      "27       16         100          2      46.0     47.1\n",
      "28       16         100          3      48.9     49.1\n",
      "29       16         100          4      53.3     49.0\n",
      "30       15          50          2      45.7     47.0\n",
      "31       15          50          3      51.1     46.3\n",
      "32       15          50          4      53.9     49.0\n",
      "33       15         100          2      46.3     47.7\n",
      "34       15         100          3      50.8     49.0\n",
      "35       15         100          4      54.6     47.0\n",
      "36       14          50          2      46.0     47.7\n",
      "37       14          50          3      50.2     50.3\n",
      "38       14          50          4      53.3     51.0\n",
      "39       14         100          2      45.7     47.7\n",
      "40       14         100          3      49.5     49.6\n",
      "41       14         100          4      54.2     49.6\n",
      "42       13          50          2      46.7     46.3\n",
      "43       13          50          3      52.0     50.3\n",
      "44       13          50          4      52.7     49.6\n",
      "45       13         100          2      47.0     47.8\n",
      "46       13         100          3      52.6     50.3\n",
      "47       13         100          4      54.2     51.6\n",
      "48       12          50          2      45.1     45.7\n",
      "49       12          50          3      49.8     49.0\n",
      "50       12          50          4      52.7     47.0\n",
      "51       12         100          2      46.3     45.7\n",
      "52       12         100          3      49.8     49.0\n",
      "53       12         100          4      54.8     48.3\n",
      "54       11          50          2      45.3     47.0\n",
      "55       11          50          3      49.9     47.0\n",
      "56       11          50          4      53.0     47.0\n",
      "57       11         100          2      44.8     45.7\n",
      "58       11         100          3      48.8     50.3\n",
      "59       11         100          4      53.0     47.0\n",
      "60       10          50          2      45.4     47.7\n",
      "61       10          50          3      47.9     49.0\n",
      "62       10          50          4      50.1     45.7\n",
      "63       10         100          2      45.7     45.8\n",
      "64       10         100          3      48.9     47.7\n",
      "65       10         100          4      50.8     46.4\n",
      "66        9          50          2      44.1     47.1\n",
      "67        9          50          3      46.6     48.4\n",
      "68        9          50          4      51.4     47.7\n",
      "69        9         100          2      46.0     47.7\n",
      "70        9         100          3      48.2     47.7\n",
      "71        9         100          4      51.4     49.0\n",
      "72        8          50          2      44.4     47.8\n",
      "73        8          50          3      47.6     47.7\n",
      "74        8          50          4      50.5     47.0\n",
      "75        8         100          2      45.1     46.3\n",
      "76        8         100          3      47.3     47.7\n",
      "77        8         100          4      50.2     47.0\n",
      "78        7          50          2      45.7     45.0\n",
      "79        7          50          3      48.7     45.4\n",
      "80        7          50          4      50.7     47.0\n",
      "81        7         100          2      46.0     45.7\n",
      "82        7         100          3      48.8     46.4\n",
      "83        7         100          4      51.1     46.4\n",
      "84        6          50          2      44.7     45.1\n",
      "85        6          50          3      46.7     47.8\n",
      "86        6          50          4      51.1     47.1\n",
      "87        6         100          2      45.4     47.7\n",
      "88        6         100          3      47.3     48.3\n",
      "89        6         100          4      50.4     46.4\n"
     ]
    }
   ],
   "source": [
    "print(results.to_string())"
   ]
  },
  {
   "cell_type": "markdown",
   "metadata": {},
   "source": [
    "### Random Forest does better than logisitc regression. Even with 6 variables, it has a KS of 44.3% for train sample and 42.6% for Test sample (compared to 41.1% for train sample and 39.8% for test sample for logistic regression model)"
   ]
  },
  {
   "cell_type": "markdown",
   "metadata": {},
   "source": [
    "          "
   ]
  },
  {
   "cell_type": "markdown",
   "metadata": {},
   "source": [
    "                 "
   ]
  },
  {
   "cell_type": "markdown",
   "metadata": {},
   "source": [
    "## Evaluate the performance of final RF model with 6 variables"
   ]
  },
  {
   "cell_type": "code",
   "execution_count": 21,
   "metadata": {},
   "outputs": [],
   "source": [
    "selected_vars = pd.read_csv(\"RF_6.csv\")\n",
    "selected_vars = list(selected_vars[\"0\"])"
   ]
  },
  {
   "cell_type": "code",
   "execution_count": 22,
   "metadata": {},
   "outputs": [
    {
     "data": {
      "text/plain": [
       "RandomForestClassifier(bootstrap=True, ccp_alpha=0.0, class_weight=None,\n",
       "                       criterion='gini', max_depth=4, max_features='sqrt',\n",
       "                       max_leaf_nodes=None, max_samples=None,\n",
       "                       min_impurity_decrease=0.0, min_impurity_split=None,\n",
       "                       min_samples_leaf=1, min_samples_split=0.05,\n",
       "                       min_weight_fraction_leaf=0.0, n_estimators=100,\n",
       "                       n_jobs=-1, oob_score=False, random_state=12345,\n",
       "                       verbose=0, warm_start=False)"
      ]
     },
     "execution_count": 22,
     "metadata": {},
     "output_type": "execute_result"
    }
   ],
   "source": [
    "X = X_train[selected_vars]\n",
    "y = y_train.ravel()\n",
    "clf = RandomForestClassifier(n_estimators=100, criterion='gini', max_depth=4, min_samples_split=0.05, max_features='sqrt',\n",
    "                                 n_jobs=-1, random_state=12345)\n",
    "clf.fit(X,y)"
   ]
  },
  {
   "cell_type": "markdown",
   "metadata": {},
   "source": [
    "            "
   ]
  },
  {
   "cell_type": "markdown",
   "metadata": {},
   "source": [
    "### Performance for Train Sample"
   ]
  },
  {
   "cell_type": "code",
   "execution_count": 23,
   "metadata": {},
   "outputs": [],
   "source": [
    "os.chdir(\"..\")\n",
    "os.chdir(\"..//Images//\")"
   ]
  },
  {
   "cell_type": "code",
   "execution_count": 24,
   "metadata": {},
   "outputs": [],
   "source": [
    "y_hat = clf.predict_proba(X_train[selected_vars])\n",
    "results_train = pd.DataFrame()\n",
    "results_train[\"Prob\"] = (y_hat[: ][: , 1])\n",
    "results_train[\"y\"] = y_train.ravel()"
   ]
  },
  {
   "cell_type": "code",
   "execution_count": 25,
   "metadata": {},
   "outputs": [
    {
     "name": "stdout",
     "output_type": "stream",
     "text": [
      "The KS for the model is: 50.4 %\n"
     ]
    }
   ],
   "source": [
    "KS_Train = KS_Table(results_train)\n",
    "print(\"The KS for the model is:\", round(KS_Train[\"KS\"].max(),2),\"%\")"
   ]
  },
  {
   "cell_type": "code",
   "execution_count": 26,
   "metadata": {},
   "outputs": [
    {
     "data": {
      "image/png": "[encoded data removed]",
      "text/plain": [
       "<Figure size 720x504 with 1 Axes>"
      ]
     },
     "metadata": {
      "needs_background": "light"
     },
     "output_type": "display_data"
    }
   ],
   "source": [
    "import matplotlib.pyplot as plt\n",
    "deciles = np.arange(1,11,1)\n",
    "plt.figure(figsize=(10,7))\n",
    "plt.plot(deciles, KS_Train[\"PredRR\"],'-r',label=\"Predicted Response Rate\")\n",
    "plt.plot(deciles, KS_Train[\"ObsRR\"],'-b', label=\"Observed Response Rate\")\n",
    "plt.xlabel(\"Deciles\", fontsize=14)\n",
    "plt.ylabel(\"Response Rate (0-1)\", fontsize=14)\n",
    "plt.title(\"Actual Vs Predicted for Train data\", fontsize=18)\n",
    "plt.legend(fontsize=10)\n",
    "plt.savefig(\"RF_Act_vs_pred_trainsample.png\")\n",
    "plt.show()"
   ]
  },
  {
   "cell_type": "code",
   "execution_count": 27,
   "metadata": {},
   "outputs": [
    {
     "data": {
      "image/png": "[encoded data removed]",
      "text/plain": [
       "<Figure size 720x504 with 1 Axes>"
      ]
     },
     "metadata": {
      "needs_background": "light"
     },
     "output_type": "display_data"
    }
   ],
   "source": [
    "deciles = np.arange(1,11,1)\n",
    "rand = deciles/10\n",
    "plt.figure(figsize=(10,7))\n",
    "plt.plot(deciles, KS_Train[\"Cum_Perct_Goods\"],'-r',label=\"Cumulative Goods\")\n",
    "plt.plot(deciles, rand,'-b', label=\"Random Model Goods\")\n",
    "plt.xlabel(\"Deciles\", fontsize=14)\n",
    "plt.ylabel(\"Percent Goods\", fontsize=14)\n",
    "plt.title(\"Lift Chart for Train\", fontsize=18)\n",
    "plt.legend(fontsize=18)\n",
    "plt.savefig(\"RF_lift_Chart_trainsample.png\")\n",
    "plt.show()"
   ]
  },
  {
   "cell_type": "code",
   "execution_count": 28,
   "metadata": {},
   "outputs": [
    {
     "name": "stdout",
     "output_type": "stream",
     "text": [
      "Accuracy for training dataset is: 0.83\n"
     ]
    }
   ],
   "source": [
    "# Accuracy for training dataset\n",
    "print (\"Accuracy for training dataset is:\", round(clf.score(X_train[selected_vars], y_train),2))"
   ]
  },
  {
   "cell_type": "markdown",
   "metadata": {},
   "source": [
    "             "
   ]
  },
  {
   "cell_type": "markdown",
   "metadata": {},
   "source": [
    "            "
   ]
  },
  {
   "cell_type": "markdown",
   "metadata": {},
   "source": [
    "### Performance for Test sample"
   ]
  },
  {
   "cell_type": "code",
   "execution_count": 29,
   "metadata": {},
   "outputs": [],
   "source": [
    "y_hat = clf.predict_proba(X_test[selected_vars])\n",
    "results_test = pd.DataFrame()\n",
    "results_test[\"Prob\"] = (y_hat[: ][: , 1])\n",
    "results_test[\"y\"] = y_test.ravel()"
   ]
  },
  {
   "cell_type": "code",
   "execution_count": 30,
   "metadata": {},
   "outputs": [
    {
     "name": "stdout",
     "output_type": "stream",
     "text": [
      "The KS for the model is: 46.4 %\n"
     ]
    }
   ],
   "source": [
    "KS_Test = KS_Table(results_test)\n",
    "print(\"The KS for the model is:\", round(KS_Test[\"KS\"].max(),2),\"%\")"
   ]
  },
  {
   "cell_type": "code",
   "execution_count": 31,
   "metadata": {},
   "outputs": [
    {
     "data": {
      "image/png": "[encoded data removed]",
      "text/plain": [
       "<Figure size 720x504 with 1 Axes>"
      ]
     },
     "metadata": {
      "needs_background": "light"
     },
     "output_type": "display_data"
    }
   ],
   "source": [
    "import matplotlib.pyplot as plt\n",
    "deciles = np.arange(1,11,1)\n",
    "plt.figure(figsize=(10,7))\n",
    "plt.plot(deciles, KS_Test[\"PredRR\"],'-r',label=\"Predicted Response Rate\")\n",
    "plt.plot(deciles, KS_Test[\"ObsRR\"],'-b', label=\"Observed Response Rate\")\n",
    "plt.xlabel(\"Deciles\", fontsize=14)\n",
    "plt.ylabel(\"Response Rate (0-1)\", fontsize=14)\n",
    "plt.title(\"Actual Vs Predicted for Test data\", fontsize=18)\n",
    "plt.legend(fontsize=10)\n",
    "plt.savefig(\"RF_Act_vs_pred_testsample.png\")\n",
    "plt.show()"
   ]
  },
  {
   "cell_type": "code",
   "execution_count": 32,
   "metadata": {},
   "outputs": [
    {
     "data": {
      "image/png": "[encoded data removed]",
      "text/plain": [
       "<Figure size 720x504 with 1 Axes>"
      ]
     },
     "metadata": {
      "needs_background": "light"
     },
     "output_type": "display_data"
    }
   ],
   "source": [
    "deciles = np.arange(1,11,1)\n",
    "rand = deciles/10\n",
    "plt.figure(figsize=(10,7))\n",
    "plt.plot(deciles, KS_Test[\"Cum_Perct_Goods\"],'-r',label=\"Cumulative Goods\")\n",
    "plt.plot(deciles, rand,'-b', label=\"Random Model Goods\")\n",
    "plt.xlabel(\"Deciles\", fontsize=14)\n",
    "plt.ylabel(\"Percent Goods\", fontsize=14)\n",
    "plt.title(\"Lift Chart for Test\", fontsize=18)\n",
    "plt.legend(fontsize=10)\n",
    "plt.savefig(\"RF_lift_Chart_trainsample.png\")\n",
    "plt.show()"
   ]
  },
  {
   "cell_type": "code",
   "execution_count": 33,
   "metadata": {},
   "outputs": [
    {
     "name": "stdout",
     "output_type": "stream",
     "text": [
      "Accuracy for training dataset is: 0.83\n"
     ]
    }
   ],
   "source": [
    "# Accuracy for test dataset\n",
    "print (\"Accuracy for training dataset is:\", round(clf.score(X_test[selected_vars], y_test),2))"
   ]
  },
  {
   "cell_type": "markdown",
   "metadata": {},
   "source": [
    "  "
   ]
  },
  {
   "cell_type": "markdown",
   "metadata": {},
   "source": [
    "  "
   ]
  },
  {
   "cell_type": "markdown",
   "metadata": {},
   "source": [
    "   "
   ]
  }
 ],
 "metadata": {
  "kernelspec": {
   "display_name": "Python 3",
   "language": "python",
   "name": "python3"
  },
  "language_info": {
   "codemirror_mode": {
    "name": "ipython",
    "version": 3
   },
   "file_extension": ".py",
   "mimetype": "text/x-python",
   "name": "python",
   "nbconvert_exporter": "python",
   "pygments_lexer": "ipython3",
   "version": "3.7.6"
  }
 },
 "nbformat": 4,
 "nbformat_minor": 2
}
