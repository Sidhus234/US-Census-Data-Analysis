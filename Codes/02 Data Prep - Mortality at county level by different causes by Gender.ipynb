{
 "cells": [
  {
   "cell_type": "markdown",
   "metadata": {},
   "source": [
    "# <span style=\"color:Maroon\">Data Preparation - Part 2"
   ]
  },
  {
   "cell_type": "markdown",
   "metadata": {},
   "source": [
    "<span style=\"color:Green\">__Overview:__ Create dataset at county level. The columns store the values of Mortality rate (mean, upper and lower bounds) for different causes broken down by gender"
   ]
  },
  {
   "cell_type": "code",
   "execution_count": 1,
   "metadata": {},
   "outputs": [],
   "source": [
    "# Import required libraries\n",
    "import numpy as np\n",
    "import pandas as pd\n",
    "import os as os"
   ]
  },
  {
   "cell_type": "code",
   "execution_count": 2,
   "metadata": {},
   "outputs": [],
   "source": [
    "os.chdir(\"..\")\n",
    "cwd = os.getcwd()"
   ]
  },
  {
   "cell_type": "code",
   "execution_count": 3,
   "metadata": {},
   "outputs": [],
   "source": [
    "# Define the directories based on type of data\n",
    "country_category_year = \"Data\\\\country_category_year\"\n",
    "labels = \"Data\\\\labels\"\n",
    "state_category_year = \"Data\\\\state_category_year\"\n",
    "states_gender_year_cause = \"Data\\\\states_gender_year_cause\""
   ]
  },
  {
   "cell_type": "code",
   "execution_count": 4,
   "metadata": {},
   "outputs": [],
   "source": [
    "# define the filenames based on type of data\n",
    "file_coun = \"IHME_USA_COUNTY_MORTALITY_RATES_1980_2014_NATIONAL_Y2016M12D13.xlsx\"\n",
    "file_label = \"IHME_USA_COUNTY_MORTALITY_RATES_1980_2014_CODEBOOK_Y2017M05D19.csv\"\n",
    "file_st_ct_yr1 = \"IHME_USA_COUNTY_MORTALITY_RATES_1980_2014_\"\n",
    "file_st_ct_yr2 = \"_Y2016M12D13\"\n",
    "file_st_gn_yr_cs1 = \"IHME_USA_COUNTY_MORTALITY_RATES_1980_2014_\"\n",
    "file_st_gn_yr_cs2 = \"_Y2017M05D19\""
   ]
  },
  {
   "cell_type": "code",
   "execution_count": 5,
   "metadata": {},
   "outputs": [],
   "source": [
    "# List with state names\n",
    "states = [\"ALABAMA\", \"ALASKA\", \"ARIZONA\", \"ARKANSAS\", \"CALIFORNIA\", \"COLORADO\", \"CONNECTICUT\", \"DELAWARE\", \n",
    "          \"DISTRICT_OF_COLUMBIA\", \"FLORIDA\", \"GEORGIA\", \"HAWAII\", \"IDAHO\", \"ILLINOIS\", \"INDIANA\", \"IOWA\", \"KANSAS\", \n",
    "          \"KENTUCKY\", \"LOUISIANA\", \"MAINE\", \"MARYLAND\", \"MASSACHUSETTS\", \"MICHIGAN\", \"MINNESOTA\", \"MISSISSIPPI\",\n",
    "          \"MISSOURI\", \"MONTANA\", \"NEBRASKA\", \"NEVADA\", \"NEW_HAMPSHIRE\", \"NEW_JERSEY\", \"NEW_MEXICO\", \"NEW_YORK\",\n",
    "          \"NORTH_CAROLINA\", \"NORTH_DAKOTA\", \"OHIO\", \"OKLAHOMA\", \"OREGON\", \"PENNSYLVANIA\", \"RHODE_ISLAND\", \n",
    "          \"SOUTH_CAROLINA\", \"SOUTH_DAKOTA\", \"TENNESSEE\", \"TEXAS\", \"UTAH\", \"VERMONT\", \"VIRGINIA\", \"WASHINGTON\", \n",
    "          \"WEST_VIRGINIA\", \"WISCONSIN\", \"WYOMING\"]"
   ]
  },
  {
   "cell_type": "code",
   "execution_count": 6,
   "metadata": {},
   "outputs": [],
   "source": [
    "# List with different categories\n",
    "categories = [\"HIV-AIDS & tuberculosis\", \"Diarrhea, lower respiratory\", \"Neglected tropical diseases\",\n",
    "              \"Maternal disorders\", \"Neonatal disorders\", \"Nutritional deficiencies\", \"Other communicable, maternal, \",\n",
    "              \"Neoplasms\", \"Cardiovascular diseases\", \"Chronic respiratory diseases\", \"Cirrhosis & other chronic \",\n",
    "              \"Digestive diseases\", \"Neurological disorders\", \"Mental & substance use \", \"Diabetes, urogenital, blood\",\n",
    "              \"Musculoskeletal disorders\", \"Other non-communicable \", \"Transport injuries\", \"Unintentional injuries\",\n",
    "              \"Self-harm & interpersonal \", \"Forces of nature, war, & legal \"]"
   ]
  },
  {
   "cell_type": "code",
   "execution_count": 7,
   "metadata": {},
   "outputs": [],
   "source": [
    "country = \"UNITED_STATES\""
   ]
  },
  {
   "cell_type": "markdown",
   "metadata": {},
   "source": [
    "          "
   ]
  },
  {
   "cell_type": "markdown",
   "metadata": {},
   "source": [
    "## <span style=\"color:Maroon\">Read the label file"
   ]
  },
  {
   "cell_type": "code",
   "execution_count": 8,
   "metadata": {},
   "outputs": [
    {
     "data": {
      "text/html": [
       "<div>\n",
       "<style scoped>\n",
       "    .dataframe tbody tr th:only-of-type {\n",
       "        vertical-align: middle;\n",
       "    }\n",
       "\n",
       "    .dataframe tbody tr th {\n",
       "        vertical-align: top;\n",
       "    }\n",
       "\n",
       "    .dataframe thead th {\n",
       "        text-align: right;\n",
       "    }\n",
       "</style>\n",
       "<table border=\"1\" class=\"dataframe\">\n",
       "  <thead>\n",
       "    <tr style=\"text-align: right;\">\n",
       "      <th></th>\n",
       "      <th>Label:</th>\n",
       "      <th>Location ID</th>\n",
       "      <th>Location name</th>\n",
       "      <th>FIPS</th>\n",
       "      <th>Cause ID</th>\n",
       "      <th>Cause name</th>\n",
       "      <th>Sex ID</th>\n",
       "      <th>Sex name</th>\n",
       "      <th>Year ID</th>\n",
       "      <th>Mortality rate</th>\n",
       "      <th>95% Uncertainty Interval - Upper Bound</th>\n",
       "      <th>95% Uncertainty Interval - Lower Bound</th>\n",
       "    </tr>\n",
       "  </thead>\n",
       "  <tbody>\n",
       "    <tr>\n",
       "      <th>0</th>\n",
       "      <td>Value coding:</td>\n",
       "      <td>102</td>\n",
       "      <td>United States</td>\n",
       "      <td>NaN</td>\n",
       "      <td>294.0</td>\n",
       "      <td>All causes</td>\n",
       "      <td>1.0</td>\n",
       "      <td>Male</td>\n",
       "      <td>1980.0</td>\n",
       "      <td>NaN</td>\n",
       "      <td>NaN</td>\n",
       "      <td>NaN</td>\n",
       "    </tr>\n",
       "    <tr>\n",
       "      <th>1</th>\n",
       "      <td>NaN</td>\n",
       "      <td>523</td>\n",
       "      <td>Alabama</td>\n",
       "      <td>1.0</td>\n",
       "      <td>295.0</td>\n",
       "      <td>Communicable, maternal, neonatal, and nutritio...</td>\n",
       "      <td>2.0</td>\n",
       "      <td>Female</td>\n",
       "      <td>1981.0</td>\n",
       "      <td>NaN</td>\n",
       "      <td>NaN</td>\n",
       "      <td>NaN</td>\n",
       "    </tr>\n",
       "    <tr>\n",
       "      <th>2</th>\n",
       "      <td>NaN</td>\n",
       "      <td>524</td>\n",
       "      <td>Alaska</td>\n",
       "      <td>2.0</td>\n",
       "      <td>296.0</td>\n",
       "      <td>HIV/AIDS and tuberculosis</td>\n",
       "      <td>3.0</td>\n",
       "      <td>Both</td>\n",
       "      <td>1982.0</td>\n",
       "      <td>NaN</td>\n",
       "      <td>NaN</td>\n",
       "      <td>NaN</td>\n",
       "    </tr>\n",
       "    <tr>\n",
       "      <th>3</th>\n",
       "      <td>NaN</td>\n",
       "      <td>525</td>\n",
       "      <td>Arizona</td>\n",
       "      <td>4.0</td>\n",
       "      <td>301.0</td>\n",
       "      <td>Diarrhea, lower respiratory, and other common ...</td>\n",
       "      <td>NaN</td>\n",
       "      <td>NaN</td>\n",
       "      <td>1983.0</td>\n",
       "      <td>NaN</td>\n",
       "      <td>NaN</td>\n",
       "      <td>NaN</td>\n",
       "    </tr>\n",
       "    <tr>\n",
       "      <th>4</th>\n",
       "      <td>NaN</td>\n",
       "      <td>526</td>\n",
       "      <td>Arkansas</td>\n",
       "      <td>5.0</td>\n",
       "      <td>344.0</td>\n",
       "      <td>Neglected tropical diseases and malaria</td>\n",
       "      <td>NaN</td>\n",
       "      <td>NaN</td>\n",
       "      <td>1984.0</td>\n",
       "      <td>NaN</td>\n",
       "      <td>NaN</td>\n",
       "      <td>NaN</td>\n",
       "    </tr>\n",
       "  </tbody>\n",
       "</table>\n",
       "</div>"
      ],
      "text/plain": [
       "          Label:  Location ID  Location name  FIPS  Cause ID  \\\n",
       "0  Value coding:          102  United States   NaN     294.0   \n",
       "1            NaN          523        Alabama   1.0     295.0   \n",
       "2            NaN          524         Alaska   2.0     296.0   \n",
       "3            NaN          525        Arizona   4.0     301.0   \n",
       "4            NaN          526       Arkansas   5.0     344.0   \n",
       "\n",
       "                                          Cause name  Sex ID Sex name  \\\n",
       "0                                         All causes     1.0     Male   \n",
       "1  Communicable, maternal, neonatal, and nutritio...     2.0   Female   \n",
       "2                          HIV/AIDS and tuberculosis     3.0     Both   \n",
       "3  Diarrhea, lower respiratory, and other common ...     NaN      NaN   \n",
       "4            Neglected tropical diseases and malaria     NaN      NaN   \n",
       "\n",
       "   Year ID  Mortality rate  95% Uncertainty Interval - Upper Bound  \\\n",
       "0   1980.0             NaN                                     NaN   \n",
       "1   1981.0             NaN                                     NaN   \n",
       "2   1982.0             NaN                                     NaN   \n",
       "3   1983.0             NaN                                     NaN   \n",
       "4   1984.0             NaN                                     NaN   \n",
       "\n",
       "   95% Uncertainty Interval - Lower Bound  \n",
       "0                                     NaN  \n",
       "1                                     NaN  \n",
       "2                                     NaN  \n",
       "3                                     NaN  \n",
       "4                                     NaN  "
      ]
     },
     "execution_count": 8,
     "metadata": {},
     "output_type": "execute_result"
    }
   ],
   "source": [
    "os.chdir(labels)\n",
    "labels_data = pd.read_csv(file_label,skiprows=1)\n",
    "labels_data.head()"
   ]
  },
  {
   "cell_type": "code",
   "execution_count": 9,
   "metadata": {},
   "outputs": [],
   "source": [
    "cause_name = list(labels_data['Cause name'])\n",
    "cause_name = list(dict.fromkeys(cause_name))\n",
    "cause_name = cause_name[0:len(cause_name)-1]"
   ]
  },
  {
   "cell_type": "code",
   "execution_count": 10,
   "metadata": {},
   "outputs": [],
   "source": [
    "# Dictionary mapping excel tab name to acronym\n",
    "category_dict = {\"ACA\":\"All causes\",\n",
    "                 \"CMN\":\"Communicable, maternal, neonatal, and nutritional diseases\",\n",
    "                 \"HVT\":\"HIV/AIDS and tuberculosis\",\n",
    "                 \"DLR\":\"Diarrhea, lower respiratory, and other common infectious diseases\",\n",
    "                 \"NTD\":\"Neglected tropical diseases and malaria\",\n",
    "                 \"MDA\":\"Maternal disorders\",\n",
    "                 \"NDA\":\"Neonatal disorders\",\n",
    "                 \"NEA\":\"Nutritional deficiencies\",\n",
    "                 \"OTA\":\"Other communicable, maternal, neonatal, and nutritional diseases\",\n",
    "                 \"OCD\":\"Non-communicable diseases\",\n",
    "                 \"NOA\":\"Neoplasms\",\n",
    "                 \"CDA\":\"Cardiovascular diseases\",\n",
    "                 \"CRE\":\"Chronic respiratory diseases\",\n",
    "                 \"COC\":\"Cirrhosis and other chronic liver diseases\",\n",
    "                 \"DDA\":\"Digestive diseases\", \n",
    "                 \"NIA\":\"Neurological disorders\",\n",
    "                 \"MSU\":\"Mental and substance use disorders\",\n",
    "                 \"DUB\":\"Diabetes, urogenital, blood, and endocrine diseases\",\n",
    "                 \"MIA\":\"Musculoskeletal disorders\",\n",
    "                 \"ONC\":\"Other non-communicable diseases\",\n",
    "                 \"IAA\":\"Injuries\",\n",
    "                 \"TIA\":\"Transport injuries\",\n",
    "                 \"UIA\":\"Unintentional injuries\",\n",
    "                 \"SHI\":\"Self-harm and interpersonal violence\",\n",
    "                 \"FON\":\"Forces of nature, war, and legal intervention\"}"
   ]
  },
  {
   "cell_type": "code",
   "execution_count": 11,
   "metadata": {},
   "outputs": [],
   "source": [
    "category_key = [\"ACA\",\"CMN\",\"HVT\",\"DLR\",\"NTD\",\"MDA\",\"NDA\",\"NEA\",\"OTA\",\"OCD\",\"NOA\",\"CDA\",\"CRE\",\"COC\",\"DDA\",\"NIA\",\"MSU\",\n",
    "                \"DUB\", \"MIA\",\"ONC\",\"IAA\",\"TIA\",\"UIA\",\"SHI\",\"FON\"]"
   ]
  },
  {
   "cell_type": "code",
   "execution_count": 12,
   "metadata": {},
   "outputs": [
    {
     "data": {
      "text/plain": [
       "True"
      ]
     },
     "execution_count": 12,
     "metadata": {},
     "output_type": "execute_result"
    }
   ],
   "source": [
    "# Check if the list is unique (no two similar names)\n",
    "len(category_key) == len(list(dict.fromkeys(category_key)))"
   ]
  },
  {
   "cell_type": "markdown",
   "metadata": {},
   "source": [
    "       "
   ]
  },
  {
   "cell_type": "markdown",
   "metadata": {},
   "source": [
    "## <span style=\"color:Maroon\">Read Data at State level and break it down by Gender level"
   ]
  },
  {
   "cell_type": "code",
   "execution_count": 13,
   "metadata": {},
   "outputs": [],
   "source": [
    "os.chdir(f'{cwd}\\\\{states_gender_year_cause}')"
   ]
  },
  {
   "cell_type": "code",
   "execution_count": 14,
   "metadata": {},
   "outputs": [],
   "source": [
    "def change_causename(df):\n",
    "    for i in range(0,len(category_key)):\n",
    "        df = df.replace(category_dict[category_key[i]],category_key[i])\n",
    "    return df"
   ]
  },
  {
   "cell_type": "code",
   "execution_count": 15,
   "metadata": {},
   "outputs": [],
   "source": [
    "def newdata_transpose(df,fips):\n",
    "    abc = df.iloc[0,1]\n",
    "    df['columns']=df['cause_name']+\"_\"+df[\"sex_id\"].astype(str)+\"_\"+df[\"year_id\"].astype(str)\n",
    "    df = df[[\"columns\",\"mx\"]]\n",
    "    df = df.set_index(\"columns\")\n",
    "    df = df.transpose()\n",
    "    df = df.rename(index={'mx': fips})\n",
    "    return df"
   ]
  },
  {
   "cell_type": "code",
   "execution_count": 16,
   "metadata": {},
   "outputs": [],
   "source": [
    "outp_data = pd.DataFrame()"
   ]
  },
  {
   "cell_type": "code",
   "execution_count": 17,
   "metadata": {},
   "outputs": [],
   "source": [
    "for i in range(0,len(states)):\n",
    "    data = pd.read_csv(file_st_gn_yr_cs1+states[i]+file_st_gn_yr_cs2+\".csv\")\n",
    "    data = change_causename(data)\n",
    "    FIPS = list(np.unique(np.array(list(data[\"FIPS\"]))))\n",
    "    for j in range(len(FIPS)):\n",
    "        tmp = (data[data[\"FIPS\"]==FIPS[j]]).drop([\"lower\",\"upper\"],axis=1)\n",
    "        outp_data = outp_data.append(newdata_transpose(tmp,FIPS[j]))"
   ]
  },
  {
   "cell_type": "code",
   "execution_count": 18,
   "metadata": {},
   "outputs": [
    {
     "data": {
      "text/plain": [
       "(3193, 2590)"
      ]
     },
     "execution_count": 18,
     "metadata": {},
     "output_type": "execute_result"
    }
   ],
   "source": [
    "outp_data.shape"
   ]
  },
  {
   "cell_type": "code",
   "execution_count": 19,
   "metadata": {},
   "outputs": [],
   "source": [
    "outp_data.index.name = \"FIPS\""
   ]
  },
  {
   "cell_type": "code",
   "execution_count": 20,
   "metadata": {},
   "outputs": [],
   "source": [
    "# Split data in two chunks to save\n",
    "outp_data_split = np.array_split(outp_data,5)\n",
    "outp_data0 = pd.DataFrame(outp_data_split[0])\n",
    "outp_data1 = pd.DataFrame(outp_data_split[1])\n",
    "outp_data2 = pd.DataFrame(outp_data_split[2])\n",
    "outp_data3 = pd.DataFrame(outp_data_split[3])\n",
    "outp_data4 = pd.DataFrame(outp_data_split[4])"
   ]
  },
  {
   "cell_type": "code",
   "execution_count": 21,
   "metadata": {},
   "outputs": [],
   "source": [
    "outp_data0.to_csv(\"..//Model data//Mortality_yearly_category_gender_part0.csv\")\n",
    "outp_data1.to_csv(\"..//Model data//Mortality_yearly_category_gender_part1.csv\")\n",
    "outp_data2.to_csv(\"..//Model data//Mortality_yearly_category_gender_part2.csv\")\n",
    "outp_data3.to_csv(\"..//Model data//Mortality_yearly_category_gender_part3.csv\")\n",
    "outp_data4.to_csv(\"..//Model data//Mortality_yearly_category_gender_part4.csv\")"
   ]
  },
  {
   "cell_type": "markdown",
   "metadata": {},
   "source": [
    "      "
   ]
  },
  {
   "cell_type": "markdown",
   "metadata": {},
   "source": [
    "       "
   ]
  }
 ],
 "metadata": {
  "kernelspec": {
   "display_name": "Python 3",
   "language": "python",
   "name": "python3"
  },
  "language_info": {
   "codemirror_mode": {
    "name": "ipython",
    "version": 3
   },
   "file_extension": ".py",
   "mimetype": "text/x-python",
   "name": "python",
   "nbconvert_exporter": "python",
   "pygments_lexer": "ipython3",
   "version": "3.7.6"
  }
 },
 "nbformat": 4,
 "nbformat_minor": 2
}
